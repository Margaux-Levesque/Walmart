{
 "cells": [
  {
   "cell_type": "markdown",
   "metadata": {},
   "source": [
    "# Walmart : predict weekly sales"
   ]
  },
  {
   "cell_type": "markdown",
   "metadata": {},
   "source": [
    "### Description de l'entreprise"
   ]
  },
  {
   "cell_type": "markdown",
   "metadata": {},
   "source": [
    "Walmart Inc. est une société multinationale américaine de vente au détail qui exploite une chaîne d'hypermarchés, de grands magasins discount et d'épiceries aux États-Unis, dont le siège est à Bentonville, Arkansas. La société a été fondée par Sam Walton en 1962."
   ]
  },
  {
   "cell_type": "markdown",
   "metadata": {},
   "source": [
    "### Projet"
   ]
  },
  {
   "cell_type": "markdown",
   "metadata": {},
   "source": [
    "Le service marketing de Walmart vous a demandé de construire un modèle d'apprentissage automatique capable d'estimer les ventes hebdomadaires dans leurs magasins, avec la meilleure précision possible sur les prédictions faites. Un tel modèle les aiderait à mieux comprendre comment les ventes sont influencées par les indicateurs économiques et pourrait être utilisé pour planifier de futures campagnes marketing."
   ]
  },
  {
   "cell_type": "markdown",
   "metadata": {},
   "source": [
    "### Objectifs"
   ]
  },
  {
   "cell_type": "markdown",
   "metadata": {},
   "source": [
    "Le projet peut être divisé en trois étapes :\n",
    "\n",
    "- Partie 1 : faire une EDA et tous les prétraitements nécessaires pour préparer les données pour le machine learning\n",
    "- Partie 2 : entraîner un modèle de régression linéaire (baseline)\n",
    "- Partie 3 : éviter le surapprentissage en entraînant un modèle de régression régularisé"
   ]
  },
  {
   "cell_type": "markdown",
   "metadata": {},
   "source": [
    "## Partie 1 : EDA et prétraitement des données"
   ]
  },
  {
   "cell_type": "code",
   "execution_count": 1,
   "metadata": {},
   "outputs": [],
   "source": [
    "!pip install plotly -q"
   ]
  },
  {
   "cell_type": "code",
   "execution_count": 2,
   "metadata": {},
   "outputs": [],
   "source": [
    "import pandas as pd\n",
    "import numpy as np\n",
    "\n",
    "from sklearn.model_selection import train_test_split\n",
    "from sklearn.impute import SimpleImputer\n",
    "from sklearn.preprocessing import  OneHotEncoder, StandardScaler\n",
    "from sklearn.compose import ColumnTransformer\n",
    "from sklearn.linear_model import LinearRegression   #Classe pour faire de la régréssion linéaire\n",
    "from sklearn.metrics import r2_score                #Classe pour faire les scores \n",
    "\n",
    "import plotly.express as px\n",
    "import plotly.graph_objects as go\n",
    "import plotly.io as pio\n",
    "# setting Jedha color palette as default\n",
    "pio.templates[\"jedha\"] = go.layout.Template(\n",
    "    layout_colorway=[\"#4B9AC7\", \"#4BE8E0\", \"#9DD4F3\", \"#97FBF6\", \"#2A7FAF\", \"#23B1AB\", \"#0E3449\", \"#015955\"]\n",
    ")\n",
    "pio.templates.default = \"jedha\"\n",
    "pio.renderers.default = \"iframe\" # to be replaced by \"iframe\" if working on JULIE"
   ]
  },
  {
   "cell_type": "code",
   "execution_count": 3,
   "metadata": {},
   "outputs": [
    {
     "name": "stdout",
     "output_type": "stream",
     "text": [
      "Loading dataset...\n",
      "...Done.\n",
      "\n"
     ]
    }
   ],
   "source": [
    "# Lire le fichier \n",
    "print(\"Loading dataset...\")\n",
    "dataset = pd.read_csv(\"Walmart_Store_sales.csv\")\n",
    "print(\"...Done.\")\n",
    "print()"
   ]
  },
  {
   "cell_type": "code",
   "execution_count": 4,
   "metadata": {},
   "outputs": [
    {
     "name": "stdout",
     "output_type": "stream",
     "text": [
      "Number of rows : 150\n",
      "\n",
      "Display of dataset: \n"
     ]
    },
    {
     "data": {
      "text/html": [
       "<div>\n",
       "<style scoped>\n",
       "    .dataframe tbody tr th:only-of-type {\n",
       "        vertical-align: middle;\n",
       "    }\n",
       "\n",
       "    .dataframe tbody tr th {\n",
       "        vertical-align: top;\n",
       "    }\n",
       "\n",
       "    .dataframe thead th {\n",
       "        text-align: right;\n",
       "    }\n",
       "</style>\n",
       "<table border=\"1\" class=\"dataframe\">\n",
       "  <thead>\n",
       "    <tr style=\"text-align: right;\">\n",
       "      <th></th>\n",
       "      <th>Store</th>\n",
       "      <th>Date</th>\n",
       "      <th>Weekly_Sales</th>\n",
       "      <th>Holiday_Flag</th>\n",
       "      <th>Temperature</th>\n",
       "      <th>Fuel_Price</th>\n",
       "      <th>CPI</th>\n",
       "      <th>Unemployment</th>\n",
       "    </tr>\n",
       "  </thead>\n",
       "  <tbody>\n",
       "    <tr>\n",
       "      <th>0</th>\n",
       "      <td>6.0</td>\n",
       "      <td>18-02-2011</td>\n",
       "      <td>1572117.54</td>\n",
       "      <td>NaN</td>\n",
       "      <td>59.61</td>\n",
       "      <td>3.045</td>\n",
       "      <td>214.777523</td>\n",
       "      <td>6.858</td>\n",
       "    </tr>\n",
       "    <tr>\n",
       "      <th>1</th>\n",
       "      <td>13.0</td>\n",
       "      <td>25-03-2011</td>\n",
       "      <td>1807545.43</td>\n",
       "      <td>0.0</td>\n",
       "      <td>42.38</td>\n",
       "      <td>3.435</td>\n",
       "      <td>128.616064</td>\n",
       "      <td>7.470</td>\n",
       "    </tr>\n",
       "    <tr>\n",
       "      <th>2</th>\n",
       "      <td>17.0</td>\n",
       "      <td>27-07-2012</td>\n",
       "      <td>NaN</td>\n",
       "      <td>0.0</td>\n",
       "      <td>NaN</td>\n",
       "      <td>NaN</td>\n",
       "      <td>130.719581</td>\n",
       "      <td>5.936</td>\n",
       "    </tr>\n",
       "    <tr>\n",
       "      <th>3</th>\n",
       "      <td>11.0</td>\n",
       "      <td>NaN</td>\n",
       "      <td>1244390.03</td>\n",
       "      <td>0.0</td>\n",
       "      <td>84.57</td>\n",
       "      <td>NaN</td>\n",
       "      <td>214.556497</td>\n",
       "      <td>7.346</td>\n",
       "    </tr>\n",
       "    <tr>\n",
       "      <th>4</th>\n",
       "      <td>6.0</td>\n",
       "      <td>28-05-2010</td>\n",
       "      <td>1644470.66</td>\n",
       "      <td>0.0</td>\n",
       "      <td>78.89</td>\n",
       "      <td>2.759</td>\n",
       "      <td>212.412888</td>\n",
       "      <td>7.092</td>\n",
       "    </tr>\n",
       "  </tbody>\n",
       "</table>\n",
       "</div>"
      ],
      "text/plain": [
       "   Store        Date  Weekly_Sales  Holiday_Flag  Temperature  Fuel_Price  \\\n",
       "0    6.0  18-02-2011    1572117.54           NaN        59.61       3.045   \n",
       "1   13.0  25-03-2011    1807545.43           0.0        42.38       3.435   \n",
       "2   17.0  27-07-2012           NaN           0.0          NaN         NaN   \n",
       "3   11.0         NaN    1244390.03           0.0        84.57         NaN   \n",
       "4    6.0  28-05-2010    1644470.66           0.0        78.89       2.759   \n",
       "\n",
       "          CPI  Unemployment  \n",
       "0  214.777523         6.858  \n",
       "1  128.616064         7.470  \n",
       "2  130.719581         5.936  \n",
       "3  214.556497         7.346  \n",
       "4  212.412888         7.092  "
      ]
     },
     "metadata": {},
     "output_type": "display_data"
    },
    {
     "name": "stdout",
     "output_type": "stream",
     "text": [
      "\n",
      "Basics statistics: \n"
     ]
    },
    {
     "data": {
      "text/html": [
       "<div>\n",
       "<style scoped>\n",
       "    .dataframe tbody tr th:only-of-type {\n",
       "        vertical-align: middle;\n",
       "    }\n",
       "\n",
       "    .dataframe tbody tr th {\n",
       "        vertical-align: top;\n",
       "    }\n",
       "\n",
       "    .dataframe thead th {\n",
       "        text-align: right;\n",
       "    }\n",
       "</style>\n",
       "<table border=\"1\" class=\"dataframe\">\n",
       "  <thead>\n",
       "    <tr style=\"text-align: right;\">\n",
       "      <th></th>\n",
       "      <th>Store</th>\n",
       "      <th>Date</th>\n",
       "      <th>Weekly_Sales</th>\n",
       "      <th>Holiday_Flag</th>\n",
       "      <th>Temperature</th>\n",
       "      <th>Fuel_Price</th>\n",
       "      <th>CPI</th>\n",
       "      <th>Unemployment</th>\n",
       "    </tr>\n",
       "  </thead>\n",
       "  <tbody>\n",
       "    <tr>\n",
       "      <th>count</th>\n",
       "      <td>150.000000</td>\n",
       "      <td>132</td>\n",
       "      <td>1.360000e+02</td>\n",
       "      <td>138.000000</td>\n",
       "      <td>132.000000</td>\n",
       "      <td>136.000000</td>\n",
       "      <td>138.000000</td>\n",
       "      <td>135.000000</td>\n",
       "    </tr>\n",
       "    <tr>\n",
       "      <th>unique</th>\n",
       "      <td>NaN</td>\n",
       "      <td>85</td>\n",
       "      <td>NaN</td>\n",
       "      <td>NaN</td>\n",
       "      <td>NaN</td>\n",
       "      <td>NaN</td>\n",
       "      <td>NaN</td>\n",
       "      <td>NaN</td>\n",
       "    </tr>\n",
       "    <tr>\n",
       "      <th>top</th>\n",
       "      <td>NaN</td>\n",
       "      <td>07-01-2011</td>\n",
       "      <td>NaN</td>\n",
       "      <td>NaN</td>\n",
       "      <td>NaN</td>\n",
       "      <td>NaN</td>\n",
       "      <td>NaN</td>\n",
       "      <td>NaN</td>\n",
       "    </tr>\n",
       "    <tr>\n",
       "      <th>freq</th>\n",
       "      <td>NaN</td>\n",
       "      <td>4</td>\n",
       "      <td>NaN</td>\n",
       "      <td>NaN</td>\n",
       "      <td>NaN</td>\n",
       "      <td>NaN</td>\n",
       "      <td>NaN</td>\n",
       "      <td>NaN</td>\n",
       "    </tr>\n",
       "    <tr>\n",
       "      <th>mean</th>\n",
       "      <td>9.866667</td>\n",
       "      <td>NaN</td>\n",
       "      <td>1.249536e+06</td>\n",
       "      <td>0.079710</td>\n",
       "      <td>61.398106</td>\n",
       "      <td>3.320853</td>\n",
       "      <td>179.898509</td>\n",
       "      <td>7.598430</td>\n",
       "    </tr>\n",
       "    <tr>\n",
       "      <th>std</th>\n",
       "      <td>6.231191</td>\n",
       "      <td>NaN</td>\n",
       "      <td>6.474630e+05</td>\n",
       "      <td>0.271831</td>\n",
       "      <td>18.378901</td>\n",
       "      <td>0.478149</td>\n",
       "      <td>40.274956</td>\n",
       "      <td>1.577173</td>\n",
       "    </tr>\n",
       "    <tr>\n",
       "      <th>min</th>\n",
       "      <td>1.000000</td>\n",
       "      <td>NaN</td>\n",
       "      <td>2.689290e+05</td>\n",
       "      <td>0.000000</td>\n",
       "      <td>18.790000</td>\n",
       "      <td>2.514000</td>\n",
       "      <td>126.111903</td>\n",
       "      <td>5.143000</td>\n",
       "    </tr>\n",
       "    <tr>\n",
       "      <th>25%</th>\n",
       "      <td>4.000000</td>\n",
       "      <td>NaN</td>\n",
       "      <td>6.050757e+05</td>\n",
       "      <td>0.000000</td>\n",
       "      <td>45.587500</td>\n",
       "      <td>2.852250</td>\n",
       "      <td>131.970831</td>\n",
       "      <td>6.597500</td>\n",
       "    </tr>\n",
       "    <tr>\n",
       "      <th>50%</th>\n",
       "      <td>9.000000</td>\n",
       "      <td>NaN</td>\n",
       "      <td>1.261424e+06</td>\n",
       "      <td>0.000000</td>\n",
       "      <td>62.985000</td>\n",
       "      <td>3.451000</td>\n",
       "      <td>197.908893</td>\n",
       "      <td>7.470000</td>\n",
       "    </tr>\n",
       "    <tr>\n",
       "      <th>75%</th>\n",
       "      <td>15.750000</td>\n",
       "      <td>NaN</td>\n",
       "      <td>1.806386e+06</td>\n",
       "      <td>0.000000</td>\n",
       "      <td>76.345000</td>\n",
       "      <td>3.706250</td>\n",
       "      <td>214.934616</td>\n",
       "      <td>8.150000</td>\n",
       "    </tr>\n",
       "    <tr>\n",
       "      <th>max</th>\n",
       "      <td>20.000000</td>\n",
       "      <td>NaN</td>\n",
       "      <td>2.771397e+06</td>\n",
       "      <td>1.000000</td>\n",
       "      <td>91.650000</td>\n",
       "      <td>4.193000</td>\n",
       "      <td>226.968844</td>\n",
       "      <td>14.313000</td>\n",
       "    </tr>\n",
       "  </tbody>\n",
       "</table>\n",
       "</div>"
      ],
      "text/plain": [
       "             Store        Date  Weekly_Sales  Holiday_Flag  Temperature  \\\n",
       "count   150.000000         132  1.360000e+02    138.000000   132.000000   \n",
       "unique         NaN          85           NaN           NaN          NaN   \n",
       "top            NaN  07-01-2011           NaN           NaN          NaN   \n",
       "freq           NaN           4           NaN           NaN          NaN   \n",
       "mean      9.866667         NaN  1.249536e+06      0.079710    61.398106   \n",
       "std       6.231191         NaN  6.474630e+05      0.271831    18.378901   \n",
       "min       1.000000         NaN  2.689290e+05      0.000000    18.790000   \n",
       "25%       4.000000         NaN  6.050757e+05      0.000000    45.587500   \n",
       "50%       9.000000         NaN  1.261424e+06      0.000000    62.985000   \n",
       "75%      15.750000         NaN  1.806386e+06      0.000000    76.345000   \n",
       "max      20.000000         NaN  2.771397e+06      1.000000    91.650000   \n",
       "\n",
       "        Fuel_Price         CPI  Unemployment  \n",
       "count   136.000000  138.000000    135.000000  \n",
       "unique         NaN         NaN           NaN  \n",
       "top            NaN         NaN           NaN  \n",
       "freq           NaN         NaN           NaN  \n",
       "mean      3.320853  179.898509      7.598430  \n",
       "std       0.478149   40.274956      1.577173  \n",
       "min       2.514000  126.111903      5.143000  \n",
       "25%       2.852250  131.970831      6.597500  \n",
       "50%       3.451000  197.908893      7.470000  \n",
       "75%       3.706250  214.934616      8.150000  \n",
       "max       4.193000  226.968844     14.313000  "
      ]
     },
     "metadata": {},
     "output_type": "display_data"
    },
    {
     "name": "stdout",
     "output_type": "stream",
     "text": [
      "\n",
      "Percentage of missing values: \n"
     ]
    },
    {
     "data": {
      "text/plain": [
       "Store            0.000000\n",
       "Date            12.000000\n",
       "Weekly_Sales     9.333333\n",
       "Holiday_Flag     8.000000\n",
       "Temperature     12.000000\n",
       "Fuel_Price       9.333333\n",
       "CPI              8.000000\n",
       "Unemployment    10.000000\n",
       "dtype: float64"
      ]
     },
     "metadata": {},
     "output_type": "display_data"
    }
   ],
   "source": [
    "# Statistiques basiques :\n",
    "print(\"Number of rows : {}\".format(dataset.shape[0]))\n",
    "print()\n",
    "\n",
    "print(\"Display of dataset: \")\n",
    "display(dataset.head())\n",
    "print()\n",
    "\n",
    "print(\"Basics statistics: \")\n",
    "data_desc = dataset.describe(include='all')\n",
    "display(data_desc)\n",
    "print()\n",
    "\n",
    "print(\"Percentage of missing values: \")\n",
    "display(100*dataset.isnull().sum()/dataset.shape[0])"
   ]
  },
  {
   "cell_type": "markdown",
   "metadata": {},
   "source": [
    "### I - Prétraitement à prévoir avec les pandas"
   ]
  },
  {
   "cell_type": "markdown",
   "metadata": {},
   "source": [
    "#### A- Supprimer les lignes où les valeurs cibles sont manquantes :"
   ]
  },
  {
   "cell_type": "markdown",
   "metadata": {},
   "source": [
    "Ici, la variable cible (Y) correspond à la colonne Weekly_Sales . On peut voir ci-dessus qu'il y a des valeurs manquantes dans cette colonne.\n",
    "\n",
    "Nous n'utilisons jamais de techniques d'imputation sur la cible : cela pourrait créer un biais dans les prédictions !\n",
    "\n",
    "Ensuite, nous allons simplement supprimer les lignes de l'ensemble de données pour lesquelles la valeur dans Weekly_Sales est manquante."
   ]
  },
  {
   "cell_type": "code",
   "execution_count": 5,
   "metadata": {},
   "outputs": [
    {
     "data": {
      "text/html": [
       "<div>\n",
       "<style scoped>\n",
       "    .dataframe tbody tr th:only-of-type {\n",
       "        vertical-align: middle;\n",
       "    }\n",
       "\n",
       "    .dataframe tbody tr th {\n",
       "        vertical-align: top;\n",
       "    }\n",
       "\n",
       "    .dataframe thead th {\n",
       "        text-align: right;\n",
       "    }\n",
       "</style>\n",
       "<table border=\"1\" class=\"dataframe\">\n",
       "  <thead>\n",
       "    <tr style=\"text-align: right;\">\n",
       "      <th></th>\n",
       "      <th>Store</th>\n",
       "      <th>Date</th>\n",
       "      <th>Weekly_Sales</th>\n",
       "      <th>Holiday_Flag</th>\n",
       "      <th>Temperature</th>\n",
       "      <th>Fuel_Price</th>\n",
       "      <th>CPI</th>\n",
       "      <th>Unemployment</th>\n",
       "    </tr>\n",
       "  </thead>\n",
       "  <tbody>\n",
       "    <tr>\n",
       "      <th>0</th>\n",
       "      <td>6.0</td>\n",
       "      <td>18-02-2011</td>\n",
       "      <td>1572117.54</td>\n",
       "      <td>NaN</td>\n",
       "      <td>59.61</td>\n",
       "      <td>3.045</td>\n",
       "      <td>214.777523</td>\n",
       "      <td>6.858</td>\n",
       "    </tr>\n",
       "    <tr>\n",
       "      <th>1</th>\n",
       "      <td>13.0</td>\n",
       "      <td>25-03-2011</td>\n",
       "      <td>1807545.43</td>\n",
       "      <td>0.0</td>\n",
       "      <td>42.38</td>\n",
       "      <td>3.435</td>\n",
       "      <td>128.616064</td>\n",
       "      <td>7.470</td>\n",
       "    </tr>\n",
       "    <tr>\n",
       "      <th>3</th>\n",
       "      <td>11.0</td>\n",
       "      <td>NaN</td>\n",
       "      <td>1244390.03</td>\n",
       "      <td>0.0</td>\n",
       "      <td>84.57</td>\n",
       "      <td>NaN</td>\n",
       "      <td>214.556497</td>\n",
       "      <td>7.346</td>\n",
       "    </tr>\n",
       "    <tr>\n",
       "      <th>4</th>\n",
       "      <td>6.0</td>\n",
       "      <td>28-05-2010</td>\n",
       "      <td>1644470.66</td>\n",
       "      <td>0.0</td>\n",
       "      <td>78.89</td>\n",
       "      <td>2.759</td>\n",
       "      <td>212.412888</td>\n",
       "      <td>7.092</td>\n",
       "    </tr>\n",
       "    <tr>\n",
       "      <th>5</th>\n",
       "      <td>4.0</td>\n",
       "      <td>28-05-2010</td>\n",
       "      <td>1857533.70</td>\n",
       "      <td>0.0</td>\n",
       "      <td>NaN</td>\n",
       "      <td>2.756</td>\n",
       "      <td>126.160226</td>\n",
       "      <td>7.896</td>\n",
       "    </tr>\n",
       "  </tbody>\n",
       "</table>\n",
       "</div>"
      ],
      "text/plain": [
       "   Store        Date  Weekly_Sales  Holiday_Flag  Temperature  Fuel_Price  \\\n",
       "0    6.0  18-02-2011    1572117.54           NaN        59.61       3.045   \n",
       "1   13.0  25-03-2011    1807545.43           0.0        42.38       3.435   \n",
       "3   11.0         NaN    1244390.03           0.0        84.57         NaN   \n",
       "4    6.0  28-05-2010    1644470.66           0.0        78.89       2.759   \n",
       "5    4.0  28-05-2010    1857533.70           0.0          NaN       2.756   \n",
       "\n",
       "          CPI  Unemployment  \n",
       "0  214.777523         6.858  \n",
       "1  128.616064         7.470  \n",
       "3  214.556497         7.346  \n",
       "4  212.412888         7.092  \n",
       "5  126.160226         7.896  "
      ]
     },
     "execution_count": 5,
     "metadata": {},
     "output_type": "execute_result"
    }
   ],
   "source": [
    "# On va jeter les lignes où il y a des valeurs manquantes, dans \"Weekly_Sales\"\n",
    "dataset = dataset.dropna(subset=['Weekly_Sales'])\n",
    "dataset.head()"
   ]
  },
  {
   "cell_type": "markdown",
   "metadata": {},
   "source": [
    "#### B- Créer des fonctionnalités utilisables à partir de la colonne Date "
   ]
  },
  {
   "cell_type": "markdown",
   "metadata": {},
   "source": [
    "La colonne Date ne peut pas être incluse telle quelle dans le modèle. Soit vous pouvez supprimer cette colonne, soit vous créerez de nouvelles colonnes contenant les caractéristiques numériques suivantes :\n",
    "\n",
    "- année\n",
    "- mois\n",
    "- journée\n",
    "- jour de la semaine\n",
    "\n",
    "NB : se serait utile de la conserver si on veut analyser l'évolution des données dans le temps, ex : le CA ou même réutiliser ce dataset pour un forcast !"
   ]
  },
  {
   "cell_type": "code",
   "execution_count": 6,
   "metadata": {},
   "outputs": [
    {
     "data": {
      "text/plain": [
       "pandas.core.series.Series"
      ]
     },
     "execution_count": 6,
     "metadata": {},
     "output_type": "execute_result"
    }
   ],
   "source": [
    "type(dataset['Date'])"
   ]
  },
  {
   "cell_type": "code",
   "execution_count": 7,
   "metadata": {},
   "outputs": [
    {
     "data": {
      "text/plain": [
       "Index(['Store', 'Date', 'Weekly_Sales', 'Holiday_Flag', 'Temperature',\n",
       "       'Fuel_Price', 'CPI', 'Unemployment'],\n",
       "      dtype='object')"
      ]
     },
     "execution_count": 7,
     "metadata": {},
     "output_type": "execute_result"
    }
   ],
   "source": [
    "dataset.keys()"
   ]
  },
  {
   "cell_type": "code",
   "execution_count": 8,
   "metadata": {},
   "outputs": [
    {
     "data": {
      "text/plain": [
       "'18-02-2011'"
      ]
     },
     "execution_count": 8,
     "metadata": {},
     "output_type": "execute_result"
    }
   ],
   "source": [
    "dataset['Date'][0]"
   ]
  },
  {
   "cell_type": "code",
   "execution_count": 9,
   "metadata": {},
   "outputs": [],
   "source": [
    "from datetime import datetime"
   ]
  },
  {
   "cell_type": "code",
   "execution_count": 10,
   "metadata": {},
   "outputs": [],
   "source": [
    "#Convertir la colonne \"Date\" dites objet en date\n",
    "dataset['Date'] = pd.to_datetime(dataset['Date'])"
   ]
  },
  {
   "cell_type": "code",
   "execution_count": 11,
   "metadata": {},
   "outputs": [],
   "source": [
    "#Créer une nouvelle colonne pour avoir les jours de la semaine \n",
    "dataset['day_of_week'] = dataset['Date'].dt.day_name()"
   ]
  },
  {
   "cell_type": "code",
   "execution_count": 12,
   "metadata": {},
   "outputs": [
    {
     "data": {
      "text/html": [
       "<div>\n",
       "<style scoped>\n",
       "    .dataframe tbody tr th:only-of-type {\n",
       "        vertical-align: middle;\n",
       "    }\n",
       "\n",
       "    .dataframe tbody tr th {\n",
       "        vertical-align: top;\n",
       "    }\n",
       "\n",
       "    .dataframe thead th {\n",
       "        text-align: right;\n",
       "    }\n",
       "</style>\n",
       "<table border=\"1\" class=\"dataframe\">\n",
       "  <thead>\n",
       "    <tr style=\"text-align: right;\">\n",
       "      <th></th>\n",
       "      <th>Store</th>\n",
       "      <th>Date</th>\n",
       "      <th>Weekly_Sales</th>\n",
       "      <th>Holiday_Flag</th>\n",
       "      <th>Temperature</th>\n",
       "      <th>Fuel_Price</th>\n",
       "      <th>CPI</th>\n",
       "      <th>Unemployment</th>\n",
       "      <th>day_of_week</th>\n",
       "    </tr>\n",
       "  </thead>\n",
       "  <tbody>\n",
       "    <tr>\n",
       "      <th>0</th>\n",
       "      <td>6.0</td>\n",
       "      <td>2011-02-18</td>\n",
       "      <td>1572117.54</td>\n",
       "      <td>NaN</td>\n",
       "      <td>59.61</td>\n",
       "      <td>3.045</td>\n",
       "      <td>214.777523</td>\n",
       "      <td>6.858</td>\n",
       "      <td>Friday</td>\n",
       "    </tr>\n",
       "    <tr>\n",
       "      <th>1</th>\n",
       "      <td>13.0</td>\n",
       "      <td>2011-03-25</td>\n",
       "      <td>1807545.43</td>\n",
       "      <td>0.0</td>\n",
       "      <td>42.38</td>\n",
       "      <td>3.435</td>\n",
       "      <td>128.616064</td>\n",
       "      <td>7.470</td>\n",
       "      <td>Friday</td>\n",
       "    </tr>\n",
       "    <tr>\n",
       "      <th>3</th>\n",
       "      <td>11.0</td>\n",
       "      <td>NaT</td>\n",
       "      <td>1244390.03</td>\n",
       "      <td>0.0</td>\n",
       "      <td>84.57</td>\n",
       "      <td>NaN</td>\n",
       "      <td>214.556497</td>\n",
       "      <td>7.346</td>\n",
       "      <td>NaN</td>\n",
       "    </tr>\n",
       "    <tr>\n",
       "      <th>4</th>\n",
       "      <td>6.0</td>\n",
       "      <td>2010-05-28</td>\n",
       "      <td>1644470.66</td>\n",
       "      <td>0.0</td>\n",
       "      <td>78.89</td>\n",
       "      <td>2.759</td>\n",
       "      <td>212.412888</td>\n",
       "      <td>7.092</td>\n",
       "      <td>Friday</td>\n",
       "    </tr>\n",
       "    <tr>\n",
       "      <th>5</th>\n",
       "      <td>4.0</td>\n",
       "      <td>2010-05-28</td>\n",
       "      <td>1857533.70</td>\n",
       "      <td>0.0</td>\n",
       "      <td>NaN</td>\n",
       "      <td>2.756</td>\n",
       "      <td>126.160226</td>\n",
       "      <td>7.896</td>\n",
       "      <td>Friday</td>\n",
       "    </tr>\n",
       "  </tbody>\n",
       "</table>\n",
       "</div>"
      ],
      "text/plain": [
       "   Store       Date  Weekly_Sales  Holiday_Flag  Temperature  Fuel_Price  \\\n",
       "0    6.0 2011-02-18    1572117.54           NaN        59.61       3.045   \n",
       "1   13.0 2011-03-25    1807545.43           0.0        42.38       3.435   \n",
       "3   11.0        NaT    1244390.03           0.0        84.57         NaN   \n",
       "4    6.0 2010-05-28    1644470.66           0.0        78.89       2.759   \n",
       "5    4.0 2010-05-28    1857533.70           0.0          NaN       2.756   \n",
       "\n",
       "          CPI  Unemployment day_of_week  \n",
       "0  214.777523         6.858      Friday  \n",
       "1  128.616064         7.470      Friday  \n",
       "3  214.556497         7.346         NaN  \n",
       "4  212.412888         7.092      Friday  \n",
       "5  126.160226         7.896      Friday  "
      ]
     },
     "execution_count": 12,
     "metadata": {},
     "output_type": "execute_result"
    }
   ],
   "source": [
    "dataset.head()"
   ]
  },
  {
   "cell_type": "markdown",
   "metadata": {},
   "source": [
    "#### a - Fractionner la colonne \"Date\" en plusieurs colonnes (jour, mois et année)"
   ]
  },
  {
   "cell_type": "code",
   "execution_count": 13,
   "metadata": {},
   "outputs": [
    {
     "data": {
      "text/plain": [
       "Store                  float64\n",
       "Date            datetime64[ns]\n",
       "Weekly_Sales           float64\n",
       "Holiday_Flag           float64\n",
       "Temperature            float64\n",
       "Fuel_Price             float64\n",
       "CPI                    float64\n",
       "Unemployment           float64\n",
       "day_of_week             object\n",
       "dtype: object"
      ]
     },
     "execution_count": 13,
     "metadata": {},
     "output_type": "execute_result"
    }
   ],
   "source": [
    "#On voit que la conversion à bien était faite\n",
    "dataset.dtypes"
   ]
  },
  {
   "cell_type": "code",
   "execution_count": 14,
   "metadata": {},
   "outputs": [],
   "source": [
    "#Ajout de la colonne \"Month\"\n",
    "dataset['month'] = dataset['Date'].dt.month"
   ]
  },
  {
   "cell_type": "code",
   "execution_count": 15,
   "metadata": {},
   "outputs": [],
   "source": [
    "#Ajout de la colonne \"Day\"\n",
    "dataset['day'] = dataset['Date'].dt.day"
   ]
  },
  {
   "cell_type": "code",
   "execution_count": 16,
   "metadata": {},
   "outputs": [],
   "source": [
    "#Ajout de la colonne \"Year\"\n",
    "dataset['year'] = dataset['Date'].dt.year"
   ]
  },
  {
   "cell_type": "code",
   "execution_count": 17,
   "metadata": {},
   "outputs": [
    {
     "data": {
      "text/html": [
       "<div>\n",
       "<style scoped>\n",
       "    .dataframe tbody tr th:only-of-type {\n",
       "        vertical-align: middle;\n",
       "    }\n",
       "\n",
       "    .dataframe tbody tr th {\n",
       "        vertical-align: top;\n",
       "    }\n",
       "\n",
       "    .dataframe thead th {\n",
       "        text-align: right;\n",
       "    }\n",
       "</style>\n",
       "<table border=\"1\" class=\"dataframe\">\n",
       "  <thead>\n",
       "    <tr style=\"text-align: right;\">\n",
       "      <th></th>\n",
       "      <th>Store</th>\n",
       "      <th>Date</th>\n",
       "      <th>Weekly_Sales</th>\n",
       "      <th>Holiday_Flag</th>\n",
       "      <th>Temperature</th>\n",
       "      <th>Fuel_Price</th>\n",
       "      <th>CPI</th>\n",
       "      <th>Unemployment</th>\n",
       "      <th>day_of_week</th>\n",
       "      <th>month</th>\n",
       "      <th>day</th>\n",
       "      <th>year</th>\n",
       "    </tr>\n",
       "  </thead>\n",
       "  <tbody>\n",
       "    <tr>\n",
       "      <th>0</th>\n",
       "      <td>6.0</td>\n",
       "      <td>2011-02-18</td>\n",
       "      <td>1572117.54</td>\n",
       "      <td>NaN</td>\n",
       "      <td>59.61</td>\n",
       "      <td>3.045</td>\n",
       "      <td>214.777523</td>\n",
       "      <td>6.858</td>\n",
       "      <td>Friday</td>\n",
       "      <td>2.0</td>\n",
       "      <td>18.0</td>\n",
       "      <td>2011.0</td>\n",
       "    </tr>\n",
       "    <tr>\n",
       "      <th>1</th>\n",
       "      <td>13.0</td>\n",
       "      <td>2011-03-25</td>\n",
       "      <td>1807545.43</td>\n",
       "      <td>0.0</td>\n",
       "      <td>42.38</td>\n",
       "      <td>3.435</td>\n",
       "      <td>128.616064</td>\n",
       "      <td>7.470</td>\n",
       "      <td>Friday</td>\n",
       "      <td>3.0</td>\n",
       "      <td>25.0</td>\n",
       "      <td>2011.0</td>\n",
       "    </tr>\n",
       "    <tr>\n",
       "      <th>3</th>\n",
       "      <td>11.0</td>\n",
       "      <td>NaT</td>\n",
       "      <td>1244390.03</td>\n",
       "      <td>0.0</td>\n",
       "      <td>84.57</td>\n",
       "      <td>NaN</td>\n",
       "      <td>214.556497</td>\n",
       "      <td>7.346</td>\n",
       "      <td>NaN</td>\n",
       "      <td>NaN</td>\n",
       "      <td>NaN</td>\n",
       "      <td>NaN</td>\n",
       "    </tr>\n",
       "    <tr>\n",
       "      <th>4</th>\n",
       "      <td>6.0</td>\n",
       "      <td>2010-05-28</td>\n",
       "      <td>1644470.66</td>\n",
       "      <td>0.0</td>\n",
       "      <td>78.89</td>\n",
       "      <td>2.759</td>\n",
       "      <td>212.412888</td>\n",
       "      <td>7.092</td>\n",
       "      <td>Friday</td>\n",
       "      <td>5.0</td>\n",
       "      <td>28.0</td>\n",
       "      <td>2010.0</td>\n",
       "    </tr>\n",
       "    <tr>\n",
       "      <th>5</th>\n",
       "      <td>4.0</td>\n",
       "      <td>2010-05-28</td>\n",
       "      <td>1857533.70</td>\n",
       "      <td>0.0</td>\n",
       "      <td>NaN</td>\n",
       "      <td>2.756</td>\n",
       "      <td>126.160226</td>\n",
       "      <td>7.896</td>\n",
       "      <td>Friday</td>\n",
       "      <td>5.0</td>\n",
       "      <td>28.0</td>\n",
       "      <td>2010.0</td>\n",
       "    </tr>\n",
       "  </tbody>\n",
       "</table>\n",
       "</div>"
      ],
      "text/plain": [
       "   Store       Date  Weekly_Sales  Holiday_Flag  Temperature  Fuel_Price  \\\n",
       "0    6.0 2011-02-18    1572117.54           NaN        59.61       3.045   \n",
       "1   13.0 2011-03-25    1807545.43           0.0        42.38       3.435   \n",
       "3   11.0        NaT    1244390.03           0.0        84.57         NaN   \n",
       "4    6.0 2010-05-28    1644470.66           0.0        78.89       2.759   \n",
       "5    4.0 2010-05-28    1857533.70           0.0          NaN       2.756   \n",
       "\n",
       "          CPI  Unemployment day_of_week  month   day    year  \n",
       "0  214.777523         6.858      Friday    2.0  18.0  2011.0  \n",
       "1  128.616064         7.470      Friday    3.0  25.0  2011.0  \n",
       "3  214.556497         7.346         NaN    NaN   NaN     NaN  \n",
       "4  212.412888         7.092      Friday    5.0  28.0  2010.0  \n",
       "5  126.160226         7.896      Friday    5.0  28.0  2010.0  "
      ]
     },
     "execution_count": 17,
     "metadata": {},
     "output_type": "execute_result"
    }
   ],
   "source": [
    "dataset.head()"
   ]
  },
  {
   "cell_type": "code",
   "execution_count": 18,
   "metadata": {},
   "outputs": [
    {
     "name": "stdout",
     "output_type": "stream",
     "text": [
      "<class 'pandas.core.frame.DataFrame'>\n",
      "Int64Index: 136 entries, 0 to 149\n",
      "Data columns (total 12 columns):\n",
      " #   Column        Non-Null Count  Dtype         \n",
      "---  ------        --------------  -----         \n",
      " 0   Store         136 non-null    float64       \n",
      " 1   Date          118 non-null    datetime64[ns]\n",
      " 2   Weekly_Sales  136 non-null    float64       \n",
      " 3   Holiday_Flag  125 non-null    float64       \n",
      " 4   Temperature   121 non-null    float64       \n",
      " 5   Fuel_Price    124 non-null    float64       \n",
      " 6   CPI           125 non-null    float64       \n",
      " 7   Unemployment  122 non-null    float64       \n",
      " 8   day_of_week   118 non-null    object        \n",
      " 9   month         118 non-null    float64       \n",
      " 10  day           118 non-null    float64       \n",
      " 11  year          118 non-null    float64       \n",
      "dtypes: datetime64[ns](1), float64(10), object(1)\n",
      "memory usage: 18.8+ KB\n"
     ]
    }
   ],
   "source": [
    "dataset.info()"
   ]
  },
  {
   "cell_type": "markdown",
   "metadata": {},
   "source": [
    "#### b - vérifier les valeurs :"
   ]
  },
  {
   "cell_type": "code",
   "execution_count": 20,
   "metadata": {},
   "outputs": [
    {
     "data": {
      "text/plain": [
       "array([18., 25., nan, 28.,  6.,  2., 12., 19., 15., 13., 16., 10., 30.,\n",
       "       20.,  4., 26.,  5., 23., 24., 11., 27., 14.,  7.,  8., 17.,  3.,\n",
       "        1., 22., 31., 29.,  9.])"
      ]
     },
     "execution_count": 20,
     "metadata": {},
     "output_type": "execute_result"
    }
   ],
   "source": [
    "dataset[\"day\"].unique()  "
   ]
  },
  {
   "cell_type": "code",
   "execution_count": 21,
   "metadata": {},
   "outputs": [
    {
     "data": {
      "text/plain": [
       "array([ 2.,  3., nan,  5., 10.,  8.,  1.,  4., 12.,  6.,  9., 11.,  7.])"
      ]
     },
     "execution_count": 21,
     "metadata": {},
     "output_type": "execute_result"
    }
   ],
   "source": [
    "dataset[\"month\"].unique()  "
   ]
  },
  {
   "cell_type": "code",
   "execution_count": 22,
   "metadata": {},
   "outputs": [
    {
     "data": {
      "text/plain": [
       "array([2011.,   nan, 2010., 2012.])"
      ]
     },
     "execution_count": 22,
     "metadata": {},
     "output_type": "execute_result"
    }
   ],
   "source": [
    "dataset[\"year\"].unique()  "
   ]
  },
  {
   "cell_type": "code",
   "execution_count": 23,
   "metadata": {},
   "outputs": [
    {
     "data": {
      "text/plain": [
       "array(['Friday', nan, 'Sunday', 'Tuesday', 'Thursday', 'Monday',\n",
       "       'Saturday'], dtype=object)"
      ]
     },
     "execution_count": 23,
     "metadata": {},
     "output_type": "execute_result"
    }
   ],
   "source": [
    "dataset[\"day_of_week\"].unique()"
   ]
  },
  {
   "cell_type": "markdown",
   "metadata": {},
   "source": [
    "##### On constate qu'il n'y a pas de valeurs abérentes... Mais on a des valeurs manquantes ! "
   ]
  },
  {
   "cell_type": "markdown",
   "metadata": {},
   "source": [
    "##### On va supprimer les lignes où on voit des dates manquantes, pour les raisons suivantes : \n",
    "- On ne peut pas soliciter le client, pour connaitre une date approximative\n",
    "- Ensuite, on n'a un trop gros écart entre la date précédante et la suivante, donc on ne peut pas faire une moyenne de la date.\n",
    "- Recommandation : c'est important d'avoir la date, pour éviter de perdre des données (ex : CA), pour avoir un résultat exacte en ce qui concerne les performances des magasins.  "
   ]
  },
  {
   "cell_type": "code",
   "execution_count": 24,
   "metadata": {},
   "outputs": [
    {
     "data": {
      "text/html": [
       "<div>\n",
       "<style scoped>\n",
       "    .dataframe tbody tr th:only-of-type {\n",
       "        vertical-align: middle;\n",
       "    }\n",
       "\n",
       "    .dataframe tbody tr th {\n",
       "        vertical-align: top;\n",
       "    }\n",
       "\n",
       "    .dataframe thead th {\n",
       "        text-align: right;\n",
       "    }\n",
       "</style>\n",
       "<table border=\"1\" class=\"dataframe\">\n",
       "  <thead>\n",
       "    <tr style=\"text-align: right;\">\n",
       "      <th></th>\n",
       "      <th>Store</th>\n",
       "      <th>Date</th>\n",
       "      <th>Weekly_Sales</th>\n",
       "      <th>Holiday_Flag</th>\n",
       "      <th>Temperature</th>\n",
       "      <th>Fuel_Price</th>\n",
       "      <th>CPI</th>\n",
       "      <th>Unemployment</th>\n",
       "      <th>day_of_week</th>\n",
       "      <th>month</th>\n",
       "      <th>day</th>\n",
       "      <th>year</th>\n",
       "    </tr>\n",
       "  </thead>\n",
       "  <tbody>\n",
       "    <tr>\n",
       "      <th>0</th>\n",
       "      <td>6.0</td>\n",
       "      <td>2011-02-18</td>\n",
       "      <td>1572117.54</td>\n",
       "      <td>NaN</td>\n",
       "      <td>59.61</td>\n",
       "      <td>3.045</td>\n",
       "      <td>214.777523</td>\n",
       "      <td>6.858</td>\n",
       "      <td>Friday</td>\n",
       "      <td>2.0</td>\n",
       "      <td>18.0</td>\n",
       "      <td>2011.0</td>\n",
       "    </tr>\n",
       "    <tr>\n",
       "      <th>1</th>\n",
       "      <td>13.0</td>\n",
       "      <td>2011-03-25</td>\n",
       "      <td>1807545.43</td>\n",
       "      <td>0.0</td>\n",
       "      <td>42.38</td>\n",
       "      <td>3.435</td>\n",
       "      <td>128.616064</td>\n",
       "      <td>7.470</td>\n",
       "      <td>Friday</td>\n",
       "      <td>3.0</td>\n",
       "      <td>25.0</td>\n",
       "      <td>2011.0</td>\n",
       "    </tr>\n",
       "    <tr>\n",
       "      <th>4</th>\n",
       "      <td>6.0</td>\n",
       "      <td>2010-05-28</td>\n",
       "      <td>1644470.66</td>\n",
       "      <td>0.0</td>\n",
       "      <td>78.89</td>\n",
       "      <td>2.759</td>\n",
       "      <td>212.412888</td>\n",
       "      <td>7.092</td>\n",
       "      <td>Friday</td>\n",
       "      <td>5.0</td>\n",
       "      <td>28.0</td>\n",
       "      <td>2010.0</td>\n",
       "    </tr>\n",
       "    <tr>\n",
       "      <th>5</th>\n",
       "      <td>4.0</td>\n",
       "      <td>2010-05-28</td>\n",
       "      <td>1857533.70</td>\n",
       "      <td>0.0</td>\n",
       "      <td>NaN</td>\n",
       "      <td>2.756</td>\n",
       "      <td>126.160226</td>\n",
       "      <td>7.896</td>\n",
       "      <td>Friday</td>\n",
       "      <td>5.0</td>\n",
       "      <td>28.0</td>\n",
       "      <td>2010.0</td>\n",
       "    </tr>\n",
       "    <tr>\n",
       "      <th>6</th>\n",
       "      <td>15.0</td>\n",
       "      <td>2011-03-06</td>\n",
       "      <td>695396.19</td>\n",
       "      <td>0.0</td>\n",
       "      <td>69.80</td>\n",
       "      <td>4.069</td>\n",
       "      <td>134.855161</td>\n",
       "      <td>7.658</td>\n",
       "      <td>Sunday</td>\n",
       "      <td>3.0</td>\n",
       "      <td>6.0</td>\n",
       "      <td>2011.0</td>\n",
       "    </tr>\n",
       "  </tbody>\n",
       "</table>\n",
       "</div>"
      ],
      "text/plain": [
       "   Store       Date  Weekly_Sales  Holiday_Flag  Temperature  Fuel_Price  \\\n",
       "0    6.0 2011-02-18    1572117.54           NaN        59.61       3.045   \n",
       "1   13.0 2011-03-25    1807545.43           0.0        42.38       3.435   \n",
       "4    6.0 2010-05-28    1644470.66           0.0        78.89       2.759   \n",
       "5    4.0 2010-05-28    1857533.70           0.0          NaN       2.756   \n",
       "6   15.0 2011-03-06     695396.19           0.0        69.80       4.069   \n",
       "\n",
       "          CPI  Unemployment day_of_week  month   day    year  \n",
       "0  214.777523         6.858      Friday    2.0  18.0  2011.0  \n",
       "1  128.616064         7.470      Friday    3.0  25.0  2011.0  \n",
       "4  212.412888         7.092      Friday    5.0  28.0  2010.0  \n",
       "5  126.160226         7.896      Friday    5.0  28.0  2010.0  \n",
       "6  134.855161         7.658      Sunday    3.0   6.0  2011.0  "
      ]
     },
     "execution_count": 24,
     "metadata": {},
     "output_type": "execute_result"
    }
   ],
   "source": [
    "# On va jeter les lignes où il y a des valeurs manquantes, dans \"Date\"\n",
    "dataset = dataset.dropna(subset=['Date'])\n",
    "dataset.head()"
   ]
  },
  {
   "cell_type": "markdown",
   "metadata": {},
   "source": [
    "#### C - Supprimer les lignes contenant des valeurs invalides ou des valeurs aberrantes (Température , Fuel_price , CPI et Unemployment) :"
   ]
  },
  {
   "cell_type": "code",
   "execution_count": 25,
   "metadata": {},
   "outputs": [
    {
     "name": "stdout",
     "output_type": "stream",
     "text": [
      "Percentage of missing values: \n"
     ]
    },
    {
     "data": {
      "text/plain": [
       "Store           0.000000\n",
       "Date            0.000000\n",
       "Weekly_Sales    0.000000\n",
       "Holiday_Flag    7.627119\n",
       "Temperature     9.322034\n",
       "Fuel_Price      9.322034\n",
       "CPI             7.627119\n",
       "Unemployment    9.322034\n",
       "day_of_week     0.000000\n",
       "month           0.000000\n",
       "day             0.000000\n",
       "year            0.000000\n",
       "dtype: float64"
      ]
     },
     "metadata": {},
     "output_type": "display_data"
    }
   ],
   "source": [
    "#Voir les valeurs manquantes des colonnes Température , Fuel_price , CPI et Unemployment :\n",
    "print(\"Percentage of missing values: \")\n",
    "display(100*dataset.isnull().sum()/dataset.shape[0])"
   ]
  },
  {
   "cell_type": "code",
   "execution_count": 26,
   "metadata": {},
   "outputs": [
    {
     "data": {
      "text/html": [
       "<div>\n",
       "<style scoped>\n",
       "    .dataframe tbody tr th:only-of-type {\n",
       "        vertical-align: middle;\n",
       "    }\n",
       "\n",
       "    .dataframe tbody tr th {\n",
       "        vertical-align: top;\n",
       "    }\n",
       "\n",
       "    .dataframe thead th {\n",
       "        text-align: right;\n",
       "    }\n",
       "</style>\n",
       "<table border=\"1\" class=\"dataframe\">\n",
       "  <thead>\n",
       "    <tr style=\"text-align: right;\">\n",
       "      <th></th>\n",
       "      <th>Store</th>\n",
       "      <th>Date</th>\n",
       "      <th>Weekly_Sales</th>\n",
       "      <th>Holiday_Flag</th>\n",
       "      <th>Temperature</th>\n",
       "      <th>Fuel_Price</th>\n",
       "      <th>CPI</th>\n",
       "      <th>Unemployment</th>\n",
       "      <th>day_of_week</th>\n",
       "      <th>month</th>\n",
       "      <th>day</th>\n",
       "      <th>year</th>\n",
       "    </tr>\n",
       "  </thead>\n",
       "  <tbody>\n",
       "    <tr>\n",
       "      <th>0</th>\n",
       "      <td>6.0</td>\n",
       "      <td>2011-02-18</td>\n",
       "      <td>1572117.54</td>\n",
       "      <td>NaN</td>\n",
       "      <td>59.61</td>\n",
       "      <td>3.045</td>\n",
       "      <td>214.777523</td>\n",
       "      <td>6.858</td>\n",
       "      <td>Friday</td>\n",
       "      <td>2.0</td>\n",
       "      <td>18.0</td>\n",
       "      <td>2011.0</td>\n",
       "    </tr>\n",
       "    <tr>\n",
       "      <th>1</th>\n",
       "      <td>13.0</td>\n",
       "      <td>2011-03-25</td>\n",
       "      <td>1807545.43</td>\n",
       "      <td>0.0</td>\n",
       "      <td>42.38</td>\n",
       "      <td>3.435</td>\n",
       "      <td>128.616064</td>\n",
       "      <td>7.470</td>\n",
       "      <td>Friday</td>\n",
       "      <td>3.0</td>\n",
       "      <td>25.0</td>\n",
       "      <td>2011.0</td>\n",
       "    </tr>\n",
       "    <tr>\n",
       "      <th>4</th>\n",
       "      <td>6.0</td>\n",
       "      <td>2010-05-28</td>\n",
       "      <td>1644470.66</td>\n",
       "      <td>0.0</td>\n",
       "      <td>78.89</td>\n",
       "      <td>2.759</td>\n",
       "      <td>212.412888</td>\n",
       "      <td>7.092</td>\n",
       "      <td>Friday</td>\n",
       "      <td>5.0</td>\n",
       "      <td>28.0</td>\n",
       "      <td>2010.0</td>\n",
       "    </tr>\n",
       "    <tr>\n",
       "      <th>6</th>\n",
       "      <td>15.0</td>\n",
       "      <td>2011-03-06</td>\n",
       "      <td>695396.19</td>\n",
       "      <td>0.0</td>\n",
       "      <td>69.80</td>\n",
       "      <td>4.069</td>\n",
       "      <td>134.855161</td>\n",
       "      <td>7.658</td>\n",
       "      <td>Sunday</td>\n",
       "      <td>3.0</td>\n",
       "      <td>6.0</td>\n",
       "      <td>2011.0</td>\n",
       "    </tr>\n",
       "    <tr>\n",
       "      <th>7</th>\n",
       "      <td>20.0</td>\n",
       "      <td>2012-03-02</td>\n",
       "      <td>2203523.20</td>\n",
       "      <td>0.0</td>\n",
       "      <td>39.93</td>\n",
       "      <td>3.617</td>\n",
       "      <td>213.023623</td>\n",
       "      <td>6.961</td>\n",
       "      <td>Friday</td>\n",
       "      <td>3.0</td>\n",
       "      <td>2.0</td>\n",
       "      <td>2012.0</td>\n",
       "    </tr>\n",
       "  </tbody>\n",
       "</table>\n",
       "</div>"
      ],
      "text/plain": [
       "   Store       Date  Weekly_Sales  Holiday_Flag  Temperature  Fuel_Price  \\\n",
       "0    6.0 2011-02-18    1572117.54           NaN        59.61       3.045   \n",
       "1   13.0 2011-03-25    1807545.43           0.0        42.38       3.435   \n",
       "4    6.0 2010-05-28    1644470.66           0.0        78.89       2.759   \n",
       "6   15.0 2011-03-06     695396.19           0.0        69.80       4.069   \n",
       "7   20.0 2012-03-02    2203523.20           0.0        39.93       3.617   \n",
       "\n",
       "          CPI  Unemployment day_of_week  month   day    year  \n",
       "0  214.777523         6.858      Friday    2.0  18.0  2011.0  \n",
       "1  128.616064         7.470      Friday    3.0  25.0  2011.0  \n",
       "4  212.412888         7.092      Friday    5.0  28.0  2010.0  \n",
       "6  134.855161         7.658      Sunday    3.0   6.0  2011.0  \n",
       "7  213.023623         6.961      Friday    3.0   2.0  2012.0  "
      ]
     },
     "execution_count": 26,
     "metadata": {},
     "output_type": "execute_result"
    }
   ],
   "source": [
    "dataset = dataset.dropna(subset=['Temperature', 'Fuel_Price','CPI','Unemployment'])\n",
    "dataset.head()"
   ]
  },
  {
   "cell_type": "code",
   "execution_count": 27,
   "metadata": {},
   "outputs": [
    {
     "name": "stdout",
     "output_type": "stream",
     "text": [
      "Percentage of missing values: \n"
     ]
    },
    {
     "data": {
      "text/plain": [
       "Store            0.000000\n",
       "Date             0.000000\n",
       "Weekly_Sales     0.000000\n",
       "Holiday_Flag    10.714286\n",
       "Temperature      0.000000\n",
       "Fuel_Price       0.000000\n",
       "CPI              0.000000\n",
       "Unemployment     0.000000\n",
       "day_of_week      0.000000\n",
       "month            0.000000\n",
       "day              0.000000\n",
       "year             0.000000\n",
       "dtype: float64"
      ]
     },
     "metadata": {},
     "output_type": "display_data"
    }
   ],
   "source": [
    "print(\"Percentage of missing values: \")\n",
    "display(100*dataset.isnull().sum()/dataset.shape[0])"
   ]
  },
  {
   "cell_type": "markdown",
   "metadata": {},
   "source": [
    "##### a - Faire des visualisations pour identifier les outlyers (ou valeurs aberrantes)"
   ]
  },
  {
   "cell_type": "markdown",
   "metadata": {},
   "source": [
    "Graphiques avec Seaborn"
   ]
  },
  {
   "cell_type": "code",
   "execution_count": 28,
   "metadata": {},
   "outputs": [],
   "source": [
    "import seaborn as sns"
   ]
  },
  {
   "cell_type": "code",
   "execution_count": 29,
   "metadata": {},
   "outputs": [
    {
     "data": {
      "text/plain": [
       "<AxesSubplot:xlabel='Unemployment'>"
      ]
     },
     "execution_count": 29,
     "metadata": {},
     "output_type": "execute_result"
    },
    {
     "data": {
      "image/png": "[encoded data removed]",
      "text/plain": [
       "<Figure size 432x288 with 1 Axes>"
      ]
     },
     "metadata": {
      "needs_background": "light"
     },
     "output_type": "display_data"
    }
   ],
   "source": [
    "#Graphique pour la colonne \"Unemployment\" :\n",
    "sns.boxplot(x=dataset['Unemployment'], fliersize=10)     "
   ]
  },
  {
   "cell_type": "code",
   "execution_count": 30,
   "metadata": {},
   "outputs": [
    {
     "data": {
      "text/plain": [
       "<AxesSubplot:xlabel='Temperature'>"
      ]
     },
     "execution_count": 30,
     "metadata": {},
     "output_type": "execute_result"
    },
    {
     "data": {
      "image/png": "[encoded data removed]",
      "text/plain": [
       "<Figure size 432x288 with 1 Axes>"
      ]
     },
     "metadata": {
      "needs_background": "light"
     },
     "output_type": "display_data"
    }
   ],
   "source": [
    "#Graphique pour la colonne \"Temperature\" :\n",
    "sns.boxplot(x=dataset['Temperature'], fliersize=10)"
   ]
  },
  {
   "cell_type": "code",
   "execution_count": 31,
   "metadata": {},
   "outputs": [
    {
     "data": {
      "text/plain": [
       "<AxesSubplot:xlabel='CPI'>"
      ]
     },
     "execution_count": 31,
     "metadata": {},
     "output_type": "execute_result"
    },
    {
     "data": {
      "image/png": "[encoded data removed]",
      "text/plain": [
       "<Figure size 432x288 with 1 Axes>"
      ]
     },
     "metadata": {
      "needs_background": "light"
     },
     "output_type": "display_data"
    }
   ],
   "source": [
    "#Graphique pour la colonne \"CPI\" :\n",
    "sns.boxplot(x=dataset['CPI'], fliersize=10)"
   ]
  },
  {
   "cell_type": "code",
   "execution_count": 32,
   "metadata": {},
   "outputs": [
    {
     "data": {
      "text/plain": [
       "<AxesSubplot:xlabel='Fuel_Price'>"
      ]
     },
     "execution_count": 32,
     "metadata": {},
     "output_type": "execute_result"
    },
    {
     "data": {
      "image/png": "[encoded data removed]",
      "text/plain": [
       "<Figure size 432x288 with 1 Axes>"
      ]
     },
     "metadata": {
      "needs_background": "light"
     },
     "output_type": "display_data"
    }
   ],
   "source": [
    "#Graphique pour la colonne \"CPI\" :\n",
    "sns.boxplot(x=dataset['Fuel_Price'], fliersize=10)"
   ]
  },
  {
   "cell_type": "markdown",
   "metadata": {},
   "source": [
    "NB : On constate la présence d'outliers uniquement dans la colonne \"Unemployment\""
   ]
  },
  {
   "cell_type": "markdown",
   "metadata": {},
   "source": [
    "##### b - Supprimer les outliers de la colonne \"Unemployment\""
   ]
  },
  {
   "cell_type": "code",
   "execution_count": 33,
   "metadata": {},
   "outputs": [
    {
     "name": "stdout",
     "output_type": "stream",
     "text": [
      "Dropping outliers in Unemployment...\n",
      "Done. Number of lines remaining :  80\n",
      "\n"
     ]
    },
    {
     "data": {
      "text/html": [
       "<div>\n",
       "<style scoped>\n",
       "    .dataframe tbody tr th:only-of-type {\n",
       "        vertical-align: middle;\n",
       "    }\n",
       "\n",
       "    .dataframe tbody tr th {\n",
       "        vertical-align: top;\n",
       "    }\n",
       "\n",
       "    .dataframe thead th {\n",
       "        text-align: right;\n",
       "    }\n",
       "</style>\n",
       "<table border=\"1\" class=\"dataframe\">\n",
       "  <thead>\n",
       "    <tr style=\"text-align: right;\">\n",
       "      <th></th>\n",
       "      <th>Store</th>\n",
       "      <th>Date</th>\n",
       "      <th>Weekly_Sales</th>\n",
       "      <th>Holiday_Flag</th>\n",
       "      <th>Temperature</th>\n",
       "      <th>Fuel_Price</th>\n",
       "      <th>CPI</th>\n",
       "      <th>Unemployment</th>\n",
       "      <th>day_of_week</th>\n",
       "      <th>month</th>\n",
       "      <th>day</th>\n",
       "      <th>year</th>\n",
       "    </tr>\n",
       "  </thead>\n",
       "  <tbody>\n",
       "    <tr>\n",
       "      <th>0</th>\n",
       "      <td>6.0</td>\n",
       "      <td>2011-02-18</td>\n",
       "      <td>1572117.54</td>\n",
       "      <td>NaN</td>\n",
       "      <td>59.61</td>\n",
       "      <td>3.045</td>\n",
       "      <td>214.777523</td>\n",
       "      <td>6.858</td>\n",
       "      <td>Friday</td>\n",
       "      <td>2.0</td>\n",
       "      <td>18.0</td>\n",
       "      <td>2011.0</td>\n",
       "    </tr>\n",
       "    <tr>\n",
       "      <th>1</th>\n",
       "      <td>13.0</td>\n",
       "      <td>2011-03-25</td>\n",
       "      <td>1807545.43</td>\n",
       "      <td>0.0</td>\n",
       "      <td>42.38</td>\n",
       "      <td>3.435</td>\n",
       "      <td>128.616064</td>\n",
       "      <td>7.470</td>\n",
       "      <td>Friday</td>\n",
       "      <td>3.0</td>\n",
       "      <td>25.0</td>\n",
       "      <td>2011.0</td>\n",
       "    </tr>\n",
       "    <tr>\n",
       "      <th>4</th>\n",
       "      <td>6.0</td>\n",
       "      <td>2010-05-28</td>\n",
       "      <td>1644470.66</td>\n",
       "      <td>0.0</td>\n",
       "      <td>78.89</td>\n",
       "      <td>2.759</td>\n",
       "      <td>212.412888</td>\n",
       "      <td>7.092</td>\n",
       "      <td>Friday</td>\n",
       "      <td>5.0</td>\n",
       "      <td>28.0</td>\n",
       "      <td>2010.0</td>\n",
       "    </tr>\n",
       "    <tr>\n",
       "      <th>6</th>\n",
       "      <td>15.0</td>\n",
       "      <td>2011-03-06</td>\n",
       "      <td>695396.19</td>\n",
       "      <td>0.0</td>\n",
       "      <td>69.80</td>\n",
       "      <td>4.069</td>\n",
       "      <td>134.855161</td>\n",
       "      <td>7.658</td>\n",
       "      <td>Sunday</td>\n",
       "      <td>3.0</td>\n",
       "      <td>6.0</td>\n",
       "      <td>2011.0</td>\n",
       "    </tr>\n",
       "    <tr>\n",
       "      <th>7</th>\n",
       "      <td>20.0</td>\n",
       "      <td>2012-03-02</td>\n",
       "      <td>2203523.20</td>\n",
       "      <td>0.0</td>\n",
       "      <td>39.93</td>\n",
       "      <td>3.617</td>\n",
       "      <td>213.023623</td>\n",
       "      <td>6.961</td>\n",
       "      <td>Friday</td>\n",
       "      <td>3.0</td>\n",
       "      <td>2.0</td>\n",
       "      <td>2012.0</td>\n",
       "    </tr>\n",
       "  </tbody>\n",
       "</table>\n",
       "</div>"
      ],
      "text/plain": [
       "   Store       Date  Weekly_Sales  Holiday_Flag  Temperature  Fuel_Price  \\\n",
       "0    6.0 2011-02-18    1572117.54           NaN        59.61       3.045   \n",
       "1   13.0 2011-03-25    1807545.43           0.0        42.38       3.435   \n",
       "4    6.0 2010-05-28    1644470.66           0.0        78.89       2.759   \n",
       "6   15.0 2011-03-06     695396.19           0.0        69.80       4.069   \n",
       "7   20.0 2012-03-02    2203523.20           0.0        39.93       3.617   \n",
       "\n",
       "          CPI  Unemployment day_of_week  month   day    year  \n",
       "0  214.777523         6.858      Friday    2.0  18.0  2011.0  \n",
       "1  128.616064         7.470      Friday    3.0  25.0  2011.0  \n",
       "4  212.412888         7.092      Friday    5.0  28.0  2010.0  \n",
       "6  134.855161         7.658      Sunday    3.0   6.0  2011.0  \n",
       "7  213.023623         6.961      Friday    3.0   2.0  2012.0  "
      ]
     },
     "execution_count": 33,
     "metadata": {},
     "output_type": "execute_result"
    }
   ],
   "source": [
    "print('Dropping outliers in Unemployment...')\n",
    "to_keep = dataset['Unemployment'] < dataset['Unemployment'].mean() + 3*dataset['Unemployment'].std()   #On ne veut pas garder les données 3 écartypes de la moyenne \n",
    "dataset = dataset.loc[to_keep,:]\n",
    "print('Done. Number of lines remaining : ', dataset.shape[0])\n",
    "print()\n",
    "\n",
    "dataset.head()"
   ]
  },
  {
   "cell_type": "code",
   "execution_count": 34,
   "metadata": {},
   "outputs": [
    {
     "data": {
      "text/html": [
       "<div>\n",
       "<style scoped>\n",
       "    .dataframe tbody tr th:only-of-type {\n",
       "        vertical-align: middle;\n",
       "    }\n",
       "\n",
       "    .dataframe tbody tr th {\n",
       "        vertical-align: top;\n",
       "    }\n",
       "\n",
       "    .dataframe thead th {\n",
       "        text-align: right;\n",
       "    }\n",
       "</style>\n",
       "<table border=\"1\" class=\"dataframe\">\n",
       "  <thead>\n",
       "    <tr style=\"text-align: right;\">\n",
       "      <th></th>\n",
       "      <th>Store</th>\n",
       "      <th>Weekly_Sales</th>\n",
       "      <th>Holiday_Flag</th>\n",
       "      <th>Temperature</th>\n",
       "      <th>Fuel_Price</th>\n",
       "      <th>CPI</th>\n",
       "      <th>Unemployment</th>\n",
       "      <th>month</th>\n",
       "      <th>day</th>\n",
       "      <th>year</th>\n",
       "    </tr>\n",
       "  </thead>\n",
       "  <tbody>\n",
       "    <tr>\n",
       "      <th>count</th>\n",
       "      <td>80.000000</td>\n",
       "      <td>8.000000e+01</td>\n",
       "      <td>71.000000</td>\n",
       "      <td>80.00000</td>\n",
       "      <td>80.000000</td>\n",
       "      <td>80.000000</td>\n",
       "      <td>80.000000</td>\n",
       "      <td>80.000000</td>\n",
       "      <td>80.000000</td>\n",
       "      <td>80.000000</td>\n",
       "    </tr>\n",
       "    <tr>\n",
       "      <th>mean</th>\n",
       "      <td>9.575000</td>\n",
       "      <td>1.221522e+06</td>\n",
       "      <td>0.084507</td>\n",
       "      <td>61.12775</td>\n",
       "      <td>3.290700</td>\n",
       "      <td>181.077638</td>\n",
       "      <td>7.301775</td>\n",
       "      <td>6.525000</td>\n",
       "      <td>15.962500</td>\n",
       "      <td>2010.887500</td>\n",
       "    </tr>\n",
       "    <tr>\n",
       "      <th>std</th>\n",
       "      <td>6.143382</td>\n",
       "      <td>6.799270e+05</td>\n",
       "      <td>0.280126</td>\n",
       "      <td>17.44760</td>\n",
       "      <td>0.491223</td>\n",
       "      <td>38.847021</td>\n",
       "      <td>0.955392</td>\n",
       "      <td>3.329861</td>\n",
       "      <td>8.594145</td>\n",
       "      <td>0.826672</td>\n",
       "    </tr>\n",
       "    <tr>\n",
       "      <th>min</th>\n",
       "      <td>1.000000</td>\n",
       "      <td>2.689290e+05</td>\n",
       "      <td>0.000000</td>\n",
       "      <td>18.79000</td>\n",
       "      <td>2.548000</td>\n",
       "      <td>126.139200</td>\n",
       "      <td>5.143000</td>\n",
       "      <td>1.000000</td>\n",
       "      <td>1.000000</td>\n",
       "      <td>2010.000000</td>\n",
       "    </tr>\n",
       "    <tr>\n",
       "      <th>25%</th>\n",
       "      <td>4.000000</td>\n",
       "      <td>5.295107e+05</td>\n",
       "      <td>0.000000</td>\n",
       "      <td>45.58750</td>\n",
       "      <td>2.804000</td>\n",
       "      <td>132.610242</td>\n",
       "      <td>6.520750</td>\n",
       "      <td>4.000000</td>\n",
       "      <td>8.000000</td>\n",
       "      <td>2010.000000</td>\n",
       "    </tr>\n",
       "    <tr>\n",
       "      <th>50%</th>\n",
       "      <td>8.000000</td>\n",
       "      <td>1.260826e+06</td>\n",
       "      <td>0.000000</td>\n",
       "      <td>61.45000</td>\n",
       "      <td>3.390500</td>\n",
       "      <td>197.500965</td>\n",
       "      <td>7.345500</td>\n",
       "      <td>6.000000</td>\n",
       "      <td>16.500000</td>\n",
       "      <td>2011.000000</td>\n",
       "    </tr>\n",
       "    <tr>\n",
       "      <th>75%</th>\n",
       "      <td>15.000000</td>\n",
       "      <td>1.817517e+06</td>\n",
       "      <td>0.000000</td>\n",
       "      <td>75.47750</td>\n",
       "      <td>3.689750</td>\n",
       "      <td>214.809008</td>\n",
       "      <td>8.090000</td>\n",
       "      <td>9.250000</td>\n",
       "      <td>23.250000</td>\n",
       "      <td>2012.000000</td>\n",
       "    </tr>\n",
       "    <tr>\n",
       "      <th>max</th>\n",
       "      <td>20.000000</td>\n",
       "      <td>2.771397e+06</td>\n",
       "      <td>1.000000</td>\n",
       "      <td>91.65000</td>\n",
       "      <td>4.170000</td>\n",
       "      <td>226.968844</td>\n",
       "      <td>9.342000</td>\n",
       "      <td>12.000000</td>\n",
       "      <td>31.000000</td>\n",
       "      <td>2012.000000</td>\n",
       "    </tr>\n",
       "  </tbody>\n",
       "</table>\n",
       "</div>"
      ],
      "text/plain": [
       "           Store  Weekly_Sales  Holiday_Flag  Temperature  Fuel_Price  \\\n",
       "count  80.000000  8.000000e+01     71.000000     80.00000   80.000000   \n",
       "mean    9.575000  1.221522e+06      0.084507     61.12775    3.290700   \n",
       "std     6.143382  6.799270e+05      0.280126     17.44760    0.491223   \n",
       "min     1.000000  2.689290e+05      0.000000     18.79000    2.548000   \n",
       "25%     4.000000  5.295107e+05      0.000000     45.58750    2.804000   \n",
       "50%     8.000000  1.260826e+06      0.000000     61.45000    3.390500   \n",
       "75%    15.000000  1.817517e+06      0.000000     75.47750    3.689750   \n",
       "max    20.000000  2.771397e+06      1.000000     91.65000    4.170000   \n",
       "\n",
       "              CPI  Unemployment      month        day         year  \n",
       "count   80.000000     80.000000  80.000000  80.000000    80.000000  \n",
       "mean   181.077638      7.301775   6.525000  15.962500  2010.887500  \n",
       "std     38.847021      0.955392   3.329861   8.594145     0.826672  \n",
       "min    126.139200      5.143000   1.000000   1.000000  2010.000000  \n",
       "25%    132.610242      6.520750   4.000000   8.000000  2010.000000  \n",
       "50%    197.500965      7.345500   6.000000  16.500000  2011.000000  \n",
       "75%    214.809008      8.090000   9.250000  23.250000  2012.000000  \n",
       "max    226.968844      9.342000  12.000000  31.000000  2012.000000  "
      ]
     },
     "execution_count": 34,
     "metadata": {},
     "output_type": "execute_result"
    }
   ],
   "source": [
    "#Pour contrôler les données : \n",
    "dataset.describe()"
   ]
  },
  {
   "cell_type": "code",
   "execution_count": 35,
   "metadata": {},
   "outputs": [
    {
     "data": {
      "text/plain": [
       "<AxesSubplot:xlabel='Unemployment'>"
      ]
     },
     "execution_count": 35,
     "metadata": {},
     "output_type": "execute_result"
    },
    {
     "data": {
      "image/png": "[encoded data removed]",
      "text/plain": [
       "<Figure size 432x288 with 1 Axes>"
      ]
     },
     "metadata": {
      "needs_background": "light"
     },
     "output_type": "display_data"
    }
   ],
   "source": [
    "#Graphique pour contrôler la suppression des outliers dans la colonne \"Unemployment\" :\n",
    "sns.boxplot(x=dataset['Unemployment'], fliersize=10)  "
   ]
  },
  {
   "cell_type": "markdown",
   "metadata": {},
   "source": [
    "### II - Entraîner un modèle de régression linéaire (baseline)"
   ]
  },
  {
   "cell_type": "markdown",
   "metadata": {},
   "source": [
    "#### I - Préparation du modèle avec Pandas:"
   ]
  },
  {
   "cell_type": "code",
   "execution_count": 36,
   "metadata": {},
   "outputs": [
    {
     "data": {
      "text/html": [
       "<div>\n",
       "<style scoped>\n",
       "    .dataframe tbody tr th:only-of-type {\n",
       "        vertical-align: middle;\n",
       "    }\n",
       "\n",
       "    .dataframe tbody tr th {\n",
       "        vertical-align: top;\n",
       "    }\n",
       "\n",
       "    .dataframe thead th {\n",
       "        text-align: right;\n",
       "    }\n",
       "</style>\n",
       "<table border=\"1\" class=\"dataframe\">\n",
       "  <thead>\n",
       "    <tr style=\"text-align: right;\">\n",
       "      <th></th>\n",
       "      <th>Store</th>\n",
       "      <th>Date</th>\n",
       "      <th>Weekly_Sales</th>\n",
       "      <th>Holiday_Flag</th>\n",
       "      <th>Temperature</th>\n",
       "      <th>Fuel_Price</th>\n",
       "      <th>CPI</th>\n",
       "      <th>Unemployment</th>\n",
       "      <th>day_of_week</th>\n",
       "      <th>month</th>\n",
       "      <th>day</th>\n",
       "      <th>year</th>\n",
       "    </tr>\n",
       "  </thead>\n",
       "  <tbody>\n",
       "    <tr>\n",
       "      <th>0</th>\n",
       "      <td>6.0</td>\n",
       "      <td>2011-02-18</td>\n",
       "      <td>1572117.54</td>\n",
       "      <td>NaN</td>\n",
       "      <td>59.61</td>\n",
       "      <td>3.045</td>\n",
       "      <td>214.777523</td>\n",
       "      <td>6.858</td>\n",
       "      <td>Friday</td>\n",
       "      <td>2.0</td>\n",
       "      <td>18.0</td>\n",
       "      <td>2011.0</td>\n",
       "    </tr>\n",
       "    <tr>\n",
       "      <th>1</th>\n",
       "      <td>13.0</td>\n",
       "      <td>2011-03-25</td>\n",
       "      <td>1807545.43</td>\n",
       "      <td>0.0</td>\n",
       "      <td>42.38</td>\n",
       "      <td>3.435</td>\n",
       "      <td>128.616064</td>\n",
       "      <td>7.470</td>\n",
       "      <td>Friday</td>\n",
       "      <td>3.0</td>\n",
       "      <td>25.0</td>\n",
       "      <td>2011.0</td>\n",
       "    </tr>\n",
       "    <tr>\n",
       "      <th>4</th>\n",
       "      <td>6.0</td>\n",
       "      <td>2010-05-28</td>\n",
       "      <td>1644470.66</td>\n",
       "      <td>0.0</td>\n",
       "      <td>78.89</td>\n",
       "      <td>2.759</td>\n",
       "      <td>212.412888</td>\n",
       "      <td>7.092</td>\n",
       "      <td>Friday</td>\n",
       "      <td>5.0</td>\n",
       "      <td>28.0</td>\n",
       "      <td>2010.0</td>\n",
       "    </tr>\n",
       "    <tr>\n",
       "      <th>6</th>\n",
       "      <td>15.0</td>\n",
       "      <td>2011-03-06</td>\n",
       "      <td>695396.19</td>\n",
       "      <td>0.0</td>\n",
       "      <td>69.80</td>\n",
       "      <td>4.069</td>\n",
       "      <td>134.855161</td>\n",
       "      <td>7.658</td>\n",
       "      <td>Sunday</td>\n",
       "      <td>3.0</td>\n",
       "      <td>6.0</td>\n",
       "      <td>2011.0</td>\n",
       "    </tr>\n",
       "    <tr>\n",
       "      <th>7</th>\n",
       "      <td>20.0</td>\n",
       "      <td>2012-03-02</td>\n",
       "      <td>2203523.20</td>\n",
       "      <td>0.0</td>\n",
       "      <td>39.93</td>\n",
       "      <td>3.617</td>\n",
       "      <td>213.023623</td>\n",
       "      <td>6.961</td>\n",
       "      <td>Friday</td>\n",
       "      <td>3.0</td>\n",
       "      <td>2.0</td>\n",
       "      <td>2012.0</td>\n",
       "    </tr>\n",
       "  </tbody>\n",
       "</table>\n",
       "</div>"
      ],
      "text/plain": [
       "   Store       Date  Weekly_Sales  Holiday_Flag  Temperature  Fuel_Price  \\\n",
       "0    6.0 2011-02-18    1572117.54           NaN        59.61       3.045   \n",
       "1   13.0 2011-03-25    1807545.43           0.0        42.38       3.435   \n",
       "4    6.0 2010-05-28    1644470.66           0.0        78.89       2.759   \n",
       "6   15.0 2011-03-06     695396.19           0.0        69.80       4.069   \n",
       "7   20.0 2012-03-02    2203523.20           0.0        39.93       3.617   \n",
       "\n",
       "          CPI  Unemployment day_of_week  month   day    year  \n",
       "0  214.777523         6.858      Friday    2.0  18.0  2011.0  \n",
       "1  128.616064         7.470      Friday    3.0  25.0  2011.0  \n",
       "4  212.412888         7.092      Friday    5.0  28.0  2010.0  \n",
       "6  134.855161         7.658      Sunday    3.0   6.0  2011.0  \n",
       "7  213.023623         6.961      Friday    3.0   2.0  2012.0  "
      ]
     },
     "execution_count": 36,
     "metadata": {},
     "output_type": "execute_result"
    }
   ],
   "source": [
    "dataset.head()"
   ]
  },
  {
   "cell_type": "code",
   "execution_count": 37,
   "metadata": {},
   "outputs": [
    {
     "name": "stdout",
     "output_type": "stream",
     "text": [
      "Dropping useless columns...\n",
      "...Done.\n",
      "   Store  Weekly_Sales  Holiday_Flag  Temperature  Fuel_Price         CPI  \\\n",
      "0    6.0    1572117.54           NaN        59.61       3.045  214.777523   \n",
      "1   13.0    1807545.43           0.0        42.38       3.435  128.616064   \n",
      "4    6.0    1644470.66           0.0        78.89       2.759  212.412888   \n",
      "6   15.0     695396.19           0.0        69.80       4.069  134.855161   \n",
      "7   20.0    2203523.20           0.0        39.93       3.617  213.023623   \n",
      "\n",
      "   Unemployment day_of_week  month   day    year  \n",
      "0         6.858      Friday    2.0  18.0  2011.0  \n",
      "1         7.470      Friday    3.0  25.0  2011.0  \n",
      "4         7.092      Friday    5.0  28.0  2010.0  \n",
      "6         7.658      Sunday    3.0   6.0  2011.0  \n",
      "7         6.961      Friday    3.0   2.0  2012.0  \n"
     ]
    }
   ],
   "source": [
    "# Drop useless columns / columns with too many missing values\n",
    "useless_cols = ['Date']\n",
    "\n",
    "print(\"Dropping useless columns...\")\n",
    "dataset = dataset.drop(useless_cols, axis=1) # axis = 1 indicates that we are dropping along the column axis   + inplace = True : permet de ne pas reassigné à dataset\n",
    "# never hesitate to look at a function's documentation using the command name_of_the_function?\n",
    "print(\"...Done.\")\n",
    "print(dataset.head())"
   ]
  },
  {
   "cell_type": "code",
   "execution_count": 38,
   "metadata": {},
   "outputs": [
    {
     "name": "stdout",
     "output_type": "stream",
     "text": [
      "Separating labels from features...\n",
      "...Done.\n",
      "0    1572117.54\n",
      "1    1807545.43\n",
      "4    1644470.66\n",
      "6     695396.19\n",
      "7    2203523.20\n",
      "Name: Weekly_Sales, dtype: float64\n",
      "\n",
      "   Store  Holiday_Flag  Temperature  Fuel_Price         CPI  Unemployment  \\\n",
      "0    6.0           NaN        59.61       3.045  214.777523         6.858   \n",
      "1   13.0           0.0        42.38       3.435  128.616064         7.470   \n",
      "4    6.0           0.0        78.89       2.759  212.412888         7.092   \n",
      "6   15.0           0.0        69.80       4.069  134.855161         7.658   \n",
      "7   20.0           0.0        39.93       3.617  213.023623         6.961   \n",
      "\n",
      "  day_of_week  month   day    year  \n",
      "0      Friday    2.0  18.0  2011.0  \n",
      "1      Friday    3.0  25.0  2011.0  \n",
      "4      Friday    5.0  28.0  2010.0  \n",
      "6      Sunday    3.0   6.0  2011.0  \n",
      "7      Friday    3.0   2.0  2012.0  \n",
      "\n"
     ]
    }
   ],
   "source": [
    "# Separate target variable Y from features X\n",
    "target_name = 'Weekly_Sales'\n",
    "\n",
    "print(\"Separating labels from features...\")\n",
    "Y = dataset.loc[:,target_name]\n",
    "X = dataset.loc[:,[c for c in dataset.columns if c!=target_name]] # On garde toutes les colonnes excepté la target\n",
    "print(\"...Done.\")\n",
    "print(Y.head())\n",
    "print()\n",
    "print(X.head())\n",
    "print()"
   ]
  },
  {
   "cell_type": "code",
   "execution_count": 39,
   "metadata": {},
   "outputs": [
    {
     "name": "stdout",
     "output_type": "stream",
     "text": [
      "Convert pandas DataFrames to numpy arrays...\n",
      "...Done\n",
      "[[6.0 nan 59.61 3.045 214.77752310000002 6.858 'Friday' 2.0 18.0 2011.0]\n",
      " [13.0 0.0 42.38 3.435 128.6160645 7.47 'Friday' 3.0 25.0 2011.0]\n",
      " [6.0 0.0 78.89 2.759 212.41288799999998 7.0920000000000005 'Friday' 5.0\n",
      "  28.0 2010.0]\n",
      " [15.0 0.0 69.8 4.069 134.85516130000002 7.657999999999999 'Sunday' 3.0\n",
      "  6.0 2011.0]\n",
      " [20.0 0.0 39.93 3.617 213.02362250000002 6.961 'Friday' 3.0 2.0 2012.0]]\n",
      "\n",
      "[1572117.54, 1807545.43, 1644470.66, 695396.19, 2203523.2]\n"
     ]
    }
   ],
   "source": [
    "# On doit convertir nos données en numpy avant l'utilisation de scikit-learn\n",
    "print(\"Convert pandas DataFrames to numpy arrays...\")\n",
    "X = X.values\n",
    "Y = Y.tolist()    \n",
    "print(\"...Done\")\n",
    "print(X[0:5,:])\n",
    "print()\n",
    "print(Y[0:5])"
   ]
  },
  {
   "cell_type": "code",
   "execution_count": 40,
   "metadata": {
    "collapsed": true,
    "jupyter": {
     "outputs_hidden": true
    }
   },
   "outputs": [
    {
     "data": {
      "text/plain": [
       "array([[6.0, nan, 59.61, 3.045, 214.77752310000002, 6.858, 'Friday', 2.0,\n",
       "        18.0, 2011.0],\n",
       "       [13.0, 0.0, 42.38, 3.435, 128.6160645, 7.47, 'Friday', 3.0, 25.0,\n",
       "        2011.0],\n",
       "       [6.0, 0.0, 78.89, 2.759, 212.41288799999998, 7.0920000000000005,\n",
       "        'Friday', 5.0, 28.0, 2010.0],\n",
       "       [15.0, 0.0, 69.8, 4.069, 134.85516130000002, 7.657999999999999,\n",
       "        'Sunday', 3.0, 6.0, 2011.0],\n",
       "       [20.0, 0.0, 39.93, 3.617, 213.02362250000002, 6.961, 'Friday',\n",
       "        3.0, 2.0, 2012.0],\n",
       "       [8.0, 0.0, 82.92, 3.554, 219.07019680000005, 6.425, 'Friday', 8.0,\n",
       "        19.0, 2011.0],\n",
       "       [18.0, 0.0, 52.02, 2.878, 132.7633548, 9.331, 'Friday', 10.0,\n",
       "        15.0, 2010.0],\n",
       "       [7.0, 0.0, 36.61, 3.767, 192.826069, 8.595, 'Friday', 5.0, 13.0,\n",
       "        2011.0],\n",
       "       [1.0, 0.0, 64.74, 3.734, 221.21181319999997, 7.348, 'Friday', 3.0,\n",
       "        16.0, 2012.0],\n",
       "       [17.0, 0.0, 60.07, 2.853, 126.2346, 6.885, 'Sunday', 1.0, 10.0,\n",
       "        2010.0],\n",
       "       [6.0, nan, 68.91, 2.78, 211.8942725, 7.0920000000000005, 'Friday',\n",
       "        4.0, 30.0, 2010.0],\n",
       "       [7.0, 0.0, 38.26, 2.725, 189.7048215, 8.963, 'Thursday', 2.0, 4.0,\n",
       "        2010.0],\n",
       "       [5.0, 0.0, 77.38, 3.8989999999999996, 216.5343611, 6.489,\n",
       "        'Friday', 5.0, 13.0, 2011.0],\n",
       "       [18.0, 0.0, 50.97, 4.029, 138.9117, 8.243, 'Monday', 12.0, 10.0,\n",
       "        2012.0],\n",
       "       [19.0, 0.0, 39.07, 2.963, 131.86312900000001, 8.35, 'Friday', 3.0,\n",
       "        26.0, 2010.0],\n",
       "       [19.0, 0.0, 50.76, 4.124, 138.0332, 8.15, 'Thursday', 4.0, 5.0,\n",
       "        2012.0],\n",
       "       [17.0, 0.0, 44.82, 3.7969999999999997, 131.1083333, 5.527,\n",
       "        'Monday', 12.0, 10.0, 2012.0],\n",
       "       [16.0, 0.0, 43.95, 3.8280000000000003, 192.83131699999998,\n",
       "        6.3389999999999995, 'Friday', 5.0, 20.0, 2011.0],\n",
       "       [17.0, 0.0, 45.22, 2.915, 126.5621, 6.635, 'Friday', 4.0, 16.0,\n",
       "        2010.0],\n",
       "       [7.0, 1.0, 18.79, 3.103, 196.91950559999998, 8.256, 'Tuesday',\n",
       "        10.0, 2.0, 2012.0],\n",
       "       [19.0, 0.0, 33.26, 3.7889999999999997, 133.9587419, 7.771,\n",
       "        'Friday', 3.0, 25.0, 2011.0],\n",
       "       [3.0, 0.0, 80.19, 3.467, 219.7414914, 7.567, 'Friday', 9.0, 23.0,\n",
       "        2011.0],\n",
       "       [4.0, 0.0, 81.85, 3.57, 129.0663, 5.9460000000000015, 'Friday',\n",
       "        6.0, 24.0, 2011.0],\n",
       "       [5.0, 0.0, 60.71, 3.2969999999999997, 218.56996209999997, 6.3,\n",
       "        'Friday', 11.0, 11.0, 2011.0],\n",
       "       [18.0, 0.0, 50.43, 4.023, 137.9781333, 8.304, 'Friday', 4.0, 27.0,\n",
       "        2012.0],\n",
       "       [7.0, nan, 57.6, 3.485, 194.3796374, 8.622, 'Friday', 8.0, 26.0,\n",
       "        2011.0],\n",
       "       [1.0, 1.0, 38.51, 2.548, 211.24216980000003, 8.106, 'Thursday',\n",
       "        12.0, 2.0, 2010.0],\n",
       "       [2.0, 0.0, 54.63, 3.555, 220.27594399999998, 7.057, 'Friday', 2.0,\n",
       "        24.0, 2012.0],\n",
       "       [5.0, 0.0, 82.46, 2.64, 211.9270006, 6.496, 'Friday', 7.0, 30.0,\n",
       "        2010.0],\n",
       "       [19.0, 0.0, 66.25, 2.958, 132.5218667, 8.099, 'Sunday', 2.0, 7.0,\n",
       "        2010.0],\n",
       "       [1.0, nan, 91.65, 3.6839999999999997, 215.544618,\n",
       "        7.9620000000000015, 'Sunday', 5.0, 8.0, 2011.0],\n",
       "       [16.0, 0.0, 48.29, 3.75, 197.41332590000002, 6.162000000000001,\n",
       "        'Friday', 3.0, 30.0, 2012.0],\n",
       "       [13.0, 0.0, 61.11, 3.7880000000000003, 130.95922579999998, 5.965,\n",
       "        'Friday', 1.0, 6.0, 2012.0],\n",
       "       [2.0, 0.0, 59.69, 2.728, 211.6608975, 8.163, 'Saturday', 12.0,\n",
       "        11.0, 2010.0],\n",
       "       [14.0, nan, 41.76, 3.625, 184.99436790000001, 8.549, 'Friday',\n",
       "        3.0, 25.0, 2011.0],\n",
       "       [10.0, 0.0, 86.87, 3.6660000000000004, 130.7196333, 7.17,\n",
       "        'Thursday', 6.0, 7.0, 2012.0],\n",
       "       [13.0, 0.0, 63.6, 3.648, 129.5183333, 6.8770000000000024,\n",
       "        'Friday', 9.0, 23.0, 2011.0],\n",
       "       [8.0, 0.0, 74.92, 2.6189999999999998, 214.9362793, 6.315,\n",
       "        'Friday', 8.0, 27.0, 2010.0],\n",
       "       [14.0, 0.0, 36.85, 3.695, 189.8424834, 8.424, 'Friday', 2.0, 17.0,\n",
       "        2012.0],\n",
       "       [10.0, 0.0, 57.62, 3.8819999999999997, 130.6457931, 7.545,\n",
       "        'Friday', 2.0, 3.0, 2012.0],\n",
       "       [5.0, 0.0, 69.17, 3.594, 224.0192873, 5.4220000000000015,\n",
       "        'Friday', 10.0, 19.0, 2012.0],\n",
       "       [4.0, 0.0, 36.44, 3.1489999999999996, 129.8980645, 5.143,\n",
       "        'Friday', 12.0, 16.0, 2011.0],\n",
       "       [18.0, 0.0, 73.67, 2.792, 132.6141935, 9.342, 'Tuesday', 6.0, 8.0,\n",
       "        2010.0],\n",
       "       [3.0, 0.0, 45.71, 2.572, 214.4248812, 7.3679999999999986,\n",
       "        'Sunday', 5.0, 2.0, 2010.0],\n",
       "       [13.0, 0.0, 36.78, 2.8169999999999997, 126.7934, 7.795, 'Tuesday',\n",
       "        10.0, 12.0, 2010.0],\n",
       "       [1.0, nan, 85.22, 2.6189999999999998, 211.5673056,\n",
       "        7.787000000000001, 'Friday', 8.0, 27.0, 2010.0],\n",
       "       [20.0, 0.0, 75.17, 2.8080000000000003, 204.5675459, 7.856,\n",
       "        'Friday', 6.0, 25.0, 2010.0],\n",
       "       [15.0, 0.0, 47.42, 4.021, 137.58438710000001, 7.943, 'Friday',\n",
       "        3.0, 16.0, 2012.0],\n",
       "       [1.0, 0.0, 62.25, 3.3080000000000003, 218.2205088,\n",
       "        7.8660000000000005, 'Friday', 11.0, 18.0, 2011.0],\n",
       "       [9.0, 0.0, 49.96, 2.7710000000000004, 215.43728540000004, 6.56,\n",
       "        'Friday', 11.0, 19.0, 2010.0],\n",
       "       [2.0, 0.0, 44.69, 2.9760000000000004, 211.06488810000002,\n",
       "        8.027999999999999, 'Friday', 7.0, 1.0, 2011.0],\n",
       "       [3.0, 0.0, 75.19, 3.688, 225.23514959999997, 6.664, 'Monday',\n",
       "        11.0, 5.0, 2012.0],\n",
       "       [9.0, nan, 78.51, 2.642, 214.6564301, 6.442, 'Tuesday', 9.0, 7.0,\n",
       "        2010.0],\n",
       "       [14.0, 0.0, 78.47, 3.76, 186.13998080000002, 8.625, 'Friday', 7.0,\n",
       "        15.0, 2011.0],\n",
       "       [1.0, 0.0, 74.78, 2.8539999999999996, 210.3374261, 7.808,\n",
       "        'Friday', 5.0, 14.0, 2010.0],\n",
       "       [13.0, 0.0, 78.82, 2.8139999999999996, 126.1392,\n",
       "        7.9510000000000005, 'Sunday', 2.0, 7.0, 2010.0],\n",
       "       [3.0, 0.0, 83.52, 2.637, 214.78582590000002, 7.343, 'Friday', 6.0,\n",
       "        18.0, 2010.0],\n",
       "       [4.0, 0.0, 42.4, 2.86, 126.7934, 7.1270000000000024, 'Tuesday',\n",
       "        10.0, 12.0, 2010.0],\n",
       "       [3.0, 0.0, 82.7, 3.346, 225.30686150000002, 6.664, 'Friday', 6.0,\n",
       "        22.0, 2012.0],\n",
       "       [19.0, 0.0, 72.83, 2.932, 132.5983871, 8.099, 'Friday', 7.0, 30.0,\n",
       "        2010.0],\n",
       "       [8.0, 1.0, 33.34, 2.548, 214.62141890000004, 6.2989999999999995,\n",
       "        'Thursday', 12.0, 2.0, 2010.0],\n",
       "       [20.0, 1.0, 28.85, 3.179, 204.64322669999999, 7.484, 'Friday',\n",
       "        12.0, 31.0, 2010.0],\n",
       "       [11.0, 1.0, 69.9, 2.735, 215.06140249999999, 7.564, 'Friday',\n",
       "        11.0, 26.0, 2010.0],\n",
       "       [7.0, 0.0, 39.3, 3.9360000000000004, 197.7227385, 8.09, 'Friday',\n",
       "        4.0, 20.0, 2012.0],\n",
       "       [9.0, nan, 82.99, 2.637, 215.0166484, 6.3839999999999995,\n",
       "        'Friday', 6.0, 18.0, 2010.0],\n",
       "       [8.0, 0.0, 75.32, 2.582, 214.8785562, 6.315, 'Friday', 9.0, 17.0,\n",
       "        2010.0],\n",
       "       [5.0, 0.0, 89.42, 3.682, 216.0464364, 6.529, 'Friday', 7.0, 29.0,\n",
       "        2011.0],\n",
       "       [7.0, 1.0, 57.84, 3.596, 198.09504840000002, 7.872000000000001,\n",
       "        'Monday', 7.0, 9.0, 2012.0],\n",
       "       [3.0, 0.0, 63.91, 3.3080000000000003, 221.6432852, 7.197,\n",
       "        'Friday', 11.0, 18.0, 2011.0],\n",
       "       [16.0, 0.0, 61.79, 2.7110000000000003, 189.52312759999998,\n",
       "        6.867999999999999, 'Tuesday', 9.0, 7.0, 2010.0],\n",
       "       [13.0, 0.0, 75.95, 3.6060000000000003, 129.2015806,\n",
       "        6.8770000000000024, 'Thursday', 12.0, 8.0, 2011.0],\n",
       "       [13.0, 0.0, 52.5, 3.529, 130.82619350000002, 6.104, 'Friday', 3.0,\n",
       "        16.0, 2012.0],\n",
       "       [4.0, 0.0, 82.84, 3.627, 129.1507742, 5.644, 'Friday', 7.0, 22.0,\n",
       "        2011.0],\n",
       "       [4.0, nan, 84.59, 3.469, 129.1125, 5.644, 'Sunday', 8.0, 7.0,\n",
       "        2011.0],\n",
       "       [6.0, 0.0, 74.24, 3.807, 217.0146941, 6.855, 'Friday', 4.0, 22.0,\n",
       "        2011.0],\n",
       "       [7.0, 0.0, 50.6, 3.804, 197.5886046, 8.09, 'Friday', 5.0, 25.0,\n",
       "        2012.0],\n",
       "       [3.0, 0.0, 78.53, 2.705, 214.49583819999998, 7.343, 'Tuesday',\n",
       "        4.0, 6.0, 2010.0],\n",
       "       [3.0, 0.0, 73.44, 3.594, 226.96884419999998, 6.034, 'Friday',\n",
       "        10.0, 19.0, 2012.0],\n",
       "       [14.0, 0.0, 72.62, 2.78, 182.4424199, 8.899, 'Friday', 6.0, 18.0,\n",
       "        2010.0],\n",
       "       [19.0, 0.0, 55.2, 4.17, 137.9230667, 8.15, 'Friday', 4.0, 20.0,\n",
       "        2012.0]], dtype=object)"
      ]
     },
     "execution_count": 40,
     "metadata": {},
     "output_type": "execute_result"
    }
   ],
   "source": [
    "X"
   ]
  },
  {
   "cell_type": "code",
   "execution_count": 41,
   "metadata": {
    "collapsed": true,
    "jupyter": {
     "outputs_hidden": true
    }
   },
   "outputs": [
    {
     "data": {
      "text/plain": [
       "[1572117.54,\n",
       " 1807545.43,\n",
       " 1644470.66,\n",
       " 695396.19,\n",
       " 2203523.2,\n",
       " 895066.5,\n",
       " 1029618.1,\n",
       " 414094.05,\n",
       " 1677472.78,\n",
       " 829207.27,\n",
       " 1498080.16,\n",
       " 561145.14,\n",
       " 290930.01,\n",
       " 1074079.0,\n",
       " 1427023.45,\n",
       " 1405007.44,\n",
       " 919878.34,\n",
       " 435397.19,\n",
       " 757738.76,\n",
       " 563460.77,\n",
       " 1266564.94,\n",
       " 365248.94,\n",
       " 2008344.92,\n",
       " 311906.7,\n",
       " 961186.23,\n",
       " 629994.47,\n",
       " 1641957.44,\n",
       " 1861802.7,\n",
       " 268929.03,\n",
       " 1549018.68,\n",
       " 1624383.75,\n",
       " 485095.41,\n",
       " 2035431.39,\n",
       " 1916812.74,\n",
       " 1879451.23,\n",
       " 1805999.79,\n",
       " 1847430.96,\n",
       " 888816.78,\n",
       " 2020550.99,\n",
       " 1990371.02,\n",
       " 313358.15,\n",
       " 2771397.17,\n",
       " 1166117.85,\n",
       " 461622.22,\n",
       " 2461468.35,\n",
       " 1449142.92,\n",
       " 1973135.87,\n",
       " 570611.23,\n",
       " 1539483.7,\n",
       " 519823.3,\n",
       " 1758050.79,\n",
       " 431985.36,\n",
       " 485389.15,\n",
       " 1953544.76,\n",
       " 1494251.5,\n",
       " 2018314.71,\n",
       " 364076.85,\n",
       " 2302504.86,\n",
       " 419497.95,\n",
       " 1366395.96,\n",
       " 994801.4,\n",
       " 1799737.79,\n",
       " 1757242.51,\n",
       " 457340.06,\n",
       " 513073.87,\n",
       " 836707.85,\n",
       " 275142.17,\n",
       " 597876.55,\n",
       " 398838.97,\n",
       " 614253.33,\n",
       " 1970341.38,\n",
       " 2025582.62,\n",
       " 2036231.39,\n",
       " 2066541.86,\n",
       " 1639358.93,\n",
       " 532739.77,\n",
       " 396968.8,\n",
       " 424513.08,\n",
       " 2248645.59,\n",
       " 1255087.26]"
      ]
     },
     "execution_count": 41,
     "metadata": {},
     "output_type": "execute_result"
    }
   ],
   "source": [
    "Y"
   ]
  },
  {
   "cell_type": "markdown",
   "metadata": {},
   "source": [
    "#### II - Préparation du modèle avec scikit_learn :"
   ]
  },
  {
   "cell_type": "code",
   "execution_count": 42,
   "metadata": {},
   "outputs": [
    {
     "name": "stdout",
     "output_type": "stream",
     "text": [
      "Dividing into train and test sets...\n",
      "...Done.\n",
      "\n"
     ]
    }
   ],
   "source": [
    "# En 1er : il faut diviser le jeux de données dans un train set et test set !!\n",
    "print(\"Dividing into train and test sets...\")\n",
    "X_train, X_test, Y_train, Y_test = train_test_split(X, Y, test_size=0.2, random_state=0)  #On a mis 80% des données dans le train et 20% dans le test\n",
    "\n",
    "print(\"...Done.\")\n",
    "print()"
   ]
  },
  {
   "cell_type": "code",
   "execution_count": 43,
   "metadata": {},
   "outputs": [
    {
     "data": {
      "text/plain": [
       "((64, 10), (16, 10))"
      ]
     },
     "execution_count": 43,
     "metadata": {},
     "output_type": "execute_result"
    }
   ],
   "source": [
    "X_train.shape, X_test.shape"
   ]
  },
  {
   "cell_type": "markdown",
   "metadata": {},
   "source": [
    "##### A - Transformer les variables numériques : Température, Fuel_Price, CPI, Chômage, Année, Mois, Jour"
   ]
  },
  {
   "cell_type": "code",
   "execution_count": 44,
   "metadata": {},
   "outputs": [],
   "source": [
    "from sklearn.pipeline import Pipeline"
   ]
  },
  {
   "cell_type": "code",
   "execution_count": 45,
   "metadata": {},
   "outputs": [],
   "source": [
    "# Convertir les variables numériques : \n",
    "numeric_features = [2,3,4,5,7,8,9] # Positions des colonnes \n",
    "numeric_transformer = Pipeline(steps=[\n",
    "    ('scaler', StandardScaler())   #La on procède à la standardisation c'est à dire remplace les données par 0 ou 1\n",
    "])"
   ]
  },
  {
   "cell_type": "markdown",
   "metadata": {},
   "source": [
    "##### B - Transformer les variables catégorielles : Store, Holiday_Flag, day_of_week "
   ]
  },
  {
   "cell_type": "code",
   "execution_count": 46,
   "metadata": {},
   "outputs": [
    {
     "data": {
      "text/plain": [
       "array([ 6., 13., 15., 20.,  8., 18.,  7.,  1., 17.,  5., 19., 16.,  3.,\n",
       "        4.,  2., 14., 10.,  9., 11.])"
      ]
     },
     "execution_count": 46,
     "metadata": {},
     "output_type": "execute_result"
    }
   ],
   "source": [
    "dataset['Store'].unique()  #Les différents magasins"
   ]
  },
  {
   "cell_type": "code",
   "execution_count": 47,
   "metadata": {},
   "outputs": [],
   "source": [
    "# Convertir les variables catégorielles : \n",
    "categorical_features = [0,1,6] # Positions des colonnes\n",
    "categorical_transformer = Pipeline(\n",
    "    steps=[\n",
    "    ('imputer', SimpleImputer(strategy='most_frequent')), #Remplacer les valeurs manquantes par les données les plus fréquentes\n",
    "    ('encoder', OneHotEncoder(drop='first')) # En cas de OneHotEncoder, on jete la 1ère colonnes pour éviter une correlations entre nos variables\n",
    "    ])"
   ]
  },
  {
   "cell_type": "code",
   "execution_count": 48,
   "metadata": {},
   "outputs": [],
   "source": [
    "# On utilise columnTransformer (qui est un wrapper) pour appliquer les pipelines sur les données catégoriel et numérique \n",
    "preprocessor = ColumnTransformer(        \n",
    "    transformers=[\n",
    "        ('num', numeric_transformer, numeric_features),\n",
    "        ('cat', categorical_transformer, categorical_features)\n",
    "    ])"
   ]
  },
  {
   "cell_type": "code",
   "execution_count": 49,
   "metadata": {
    "collapsed": true,
    "jupyter": {
     "outputs_hidden": true
    }
   },
   "outputs": [
    {
     "name": "stdout",
     "output_type": "stream",
     "text": [
      "Performing preprocessings on train set...\n",
      "[[15.0 0.0 69.8 4.069 134.85516130000002 7.657999999999999 'Sunday' 3.0\n",
      "  6.0 2011.0]\n",
      " [4.0 0.0 81.85 3.57 129.0663 5.9460000000000015 'Friday' 6.0 24.0 2011.0]\n",
      " [7.0 0.0 36.61 3.767 192.826069 8.595 'Friday' 5.0 13.0 2011.0]\n",
      " [1.0 1.0 38.51 2.548 211.24216980000003 8.106 'Thursday' 12.0 2.0 2010.0]\n",
      " [18.0 0.0 73.67 2.792 132.6141935 9.342 'Tuesday' 6.0 8.0 2010.0]]\n",
      "...Done.\n",
      "  (0, 0)\t0.5858922363885097\n",
      "  (0, 1)\t1.5619981885198218\n",
      "  (0, 2)\t-1.0553617637599562\n",
      "  (0, 3)\t0.30814093975278123\n",
      "  (0, 4)\t-1.0065907243997732\n",
      "  (0, 5)\t-1.1021828439525225\n",
      "  (0, 6)\t0.18751465015433733\n",
      "  (0, 19)\t1.0\n",
      "  (0, 28)\t1.0\n",
      "  (1, 0)\t1.2843080223114072\n",
      "  (1, 1)\t0.5704464950143056\n",
      "  (1, 2)\t-1.2039825405701505\n",
      "  (1, 3)\t-1.5030487221126148\n",
      "  (1, 4)\t-0.12410022629586245\n",
      "  (1, 5)\t0.9965190341190575\n",
      "  (1, 6)\t0.18751465015433733\n",
      "  (1, 9)\t1.0\n",
      "  (2, 0)\t-1.3377940652530642\n",
      "  (2, 1)\t0.9619007708070645\n",
      "  (2, 2)\t0.4329588036659842\n",
      "  (2, 3)\t1.2994287395003763\n",
      "  (2, 4)\t-0.41826372566383274\n",
      "  (2, 5)\t-0.28602100248024137\n",
      "  (2, 6)\t0.18751465015433733\n",
      "  (2, 12)\t1.0\n",
      "  (3, 0)\t-1.2276704143606572\n",
      "  (3, 1)\t-1.4603467530070113\n",
      "  (3, 2)\t0.9057659871289643\n",
      "  (3, 3)\t0.7820971129512048\n",
      "  (3, 4)\t1.6408807699119592\n",
      "  (3, 5)\t-1.5685610390795404\n",
      "  (3, 6)\t-1.0125791108334214\n",
      "  (3, 25)\t1.0\n",
      "  (3, 29)\t1.0\n",
      "  (4, 0)\t0.8101967253114655\n",
      "  (4, 1)\t-0.9754998327357775\n",
      "  (4, 2)\t-1.1128954233144932\n",
      "  (4, 3)\t2.089708340793281\n",
      "  (4, 4)\t-0.12410022629586245\n",
      "  (4, 5)\t-0.8689937463890136\n",
      "  (4, 6)\t-1.0125791108334214\n",
      "  (4, 22)\t1.0\n",
      "  (4, 30)\t1.0\n",
      "\n",
      "Performing preprocessings on test set...\n",
      "[[2.0 0.0 44.69 2.9760000000000004 211.06488810000002 8.027999999999999\n",
      "  'Friday' 7.0 1.0 2011.0]\n",
      " [2.0 0.0 54.63 3.555 220.27594399999998 7.057 'Friday' 2.0 24.0 2012.0]\n",
      " [1.0 nan 91.65 3.6839999999999997 215.544618 7.9620000000000015 'Sunday'\n",
      "  5.0 8.0 2011.0]\n",
      " [3.0 0.0 73.44 3.594 226.96884419999998 6.034 'Friday' 10.0 19.0 2012.0]\n",
      " [1.0 nan 85.22 2.6189999999999998 211.5673056 7.787000000000001 'Friday'\n",
      "  8.0 27.0 2010.0]]\n",
      "...Done.\n",
      "  (0, 0)\t-0.8694787498790384\n",
      "  (0, 1)\t-0.6098775649902554\n",
      "  (0, 2)\t0.9012145317385521\n",
      "  (0, 3)\t0.6995779577961211\n",
      "  (0, 4)\t0.1700632730721078\n",
      "  (0, 5)\t-1.6851555878612947\n",
      "  (0, 6)\t0.18751465015433733\n",
      "  (0, 7)\t1.0\n",
      "  (1, 0)\t-0.29335817626297167\n",
      "  (1, 1)\t0.5406403318828779\n",
      "  (1, 2)\t1.1376952854059645\n",
      "  (1, 3)\t-0.32767973009599305\n",
      "  (1, 4)\t-1.3007542237677436\n",
      "  (1, 5)\t0.9965190341190575\n",
      "  (1, 6)\t1.387608411142096\n",
      "  (1, 7)\t1.0\n",
      "  (2, 0)\t1.8523142216511916\n",
      "  (2, 1)\t0.7969733348131607\n",
      "  (2, 2)\t1.0162252226386526\n",
      "  (2, 3)\t0.6297540572802851\n",
      "  (2, 4)\t-0.41826372566383274\n",
      "  (2, 5)\t-0.8689937463890136\n",
      "  (2, 6)\t0.18751465015433733\n",
      "  (2, 28)\t1.0\n",
      "  (3, 0)\t0.7968659675718581\n",
      "  (3, 1)\t0.6181363560245909\n",
      "  (3, 2)\t1.3095259746016281\n",
      "  (3, 3)\t-1.409950188091498\n",
      "  (3, 4)\t1.0525537711760187\n",
      "  (3, 5)\t0.41354629021028533\n",
      "  (3, 6)\t1.387608411142096\n",
      "  (3, 8)\t1.0\n",
      "  (4, 0)\t1.479632603104782\n",
      "  (4, 1)\t-1.319264247518251\n",
      "  (4, 2)\t0.9141133861528102\n",
      "  (4, 3)\t0.44461492712465067\n",
      "  (4, 4)\t0.4642267724400781\n",
      "  (4, 5)\t1.3463026804643208\n",
      "  (4, 6)\t-1.0125791108334214\n",
      "\n"
     ]
    }
   ],
   "source": [
    "# Preprocessings on train set\n",
    "print(\"Performing preprocessings on train set...\")\n",
    "print(X_train[0:5,:])\n",
    "X_train = preprocessor.fit_transform(X_train)\n",
    "print('...Done.')\n",
    "print(X_train[0:5,:])\n",
    "print()\n",
    "\n",
    "# Preprocessings on test set\n",
    "print(\"Performing preprocessings on test set...\")  \n",
    "print(X_test[0:5,:])\n",
    "X_test = preprocessor.transform(X_test) \n",
    "print('...Done.')\n",
    "print(X_test[0:5,:])\n",
    "print()"
   ]
  },
  {
   "cell_type": "markdown",
   "metadata": {},
   "source": [
    "#### III - Entrainement du modèle :"
   ]
  },
  {
   "cell_type": "code",
   "execution_count": 51,
   "metadata": {},
   "outputs": [
    {
     "name": "stdout",
     "output_type": "stream",
     "text": [
      "Train model...\n",
      "...Done.\n"
     ]
    }
   ],
   "source": [
    "# Train model\n",
    "print(\"Train model...\")\n",
    "regressor = LinearRegression()\n",
    "regressor.fit(X_train, Y_train)\n",
    "print(\"...Done.\")"
   ]
  },
  {
   "cell_type": "markdown",
   "metadata": {},
   "source": [
    "#### IV - Prédiction du modèle :"
   ]
  },
  {
   "cell_type": "code",
   "execution_count": 52,
   "metadata": {},
   "outputs": [
    {
     "name": "stdout",
     "output_type": "stream",
     "text": [
      "Predictions on training set...\n",
      "...Done.\n",
      "[ 666652.75430817 2086010.59275823  491914.70774259 1587905.61632527\n",
      " 1151280.54794089 2116637.00892221 2468460.05334645 1232917.25294037\n",
      " 1967866.28523053  458384.849185    951008.36964463 1757242.50962973\n",
      " 1093556.09482814  306573.45848501 2219380.52618065 2176435.94586609\n",
      " 1916812.74027334 2010493.57114034  214769.8877637   617011.3368659\n",
      " 2374937.63906467  469275.50987785 1562699.81589784  462107.75111135\n",
      "  460574.6828444  1872900.11616421 1907149.7266863  2018401.1479049\n",
      "  507168.50234373 1437749.44858684 1551118.65115373  673805.46791148\n",
      " 1514216.70443607  560310.06800535  886835.93529263 1892712.33570788\n",
      "  860770.437813   1588618.06324819 2095610.76010077 1315187.42921866\n",
      "  807920.24345484 1421661.0724425   854643.9538724   557632.31663516\n",
      " 1347365.82085266 1558238.75065213 1674657.45158312 1099328.60356336\n",
      "  497196.3563925   901499.88989665 1927060.798211   1903658.47267764\n",
      "  954964.02474685  437514.04474157  187720.34261474 2015427.49599851\n",
      " 1984475.36458479  233820.84168753  791409.97944301  443284.77920476\n",
      "  512214.37771409  472587.10209746  599354.66642187 2247212.19776376]\n",
      "\n"
     ]
    }
   ],
   "source": [
    "# Predictions on training set\n",
    "print(\"Predictions on training set...\")\n",
    "Y_train_pred = regressor.predict(X_train)\n",
    "print(\"...Done.\")\n",
    "print(Y_train_pred)\n",
    "print()"
   ]
  },
  {
   "cell_type": "code",
   "execution_count": 53,
   "metadata": {},
   "outputs": [
    {
     "name": "stdout",
     "output_type": "stream",
     "text": [
      "Predictions on test set...\n",
      "...Done.\n",
      "[1629212.6198693  1792031.29010023 1481096.74433707  628148.86718642\n",
      " 1568385.0293894  2010057.72450204   86284.93800311  471551.11158755\n",
      " 1734588.56802091  684078.07384475  563327.08639701  546428.43337153\n",
      " 1579246.56208506 2133707.03847517  624026.80214543 2009083.69046768]\n",
      "\n"
     ]
    }
   ],
   "source": [
    "# Predictions on test set\n",
    "print(\"Predictions on test set...\")\n",
    "Y_test_pred = regressor.predict(X_test)\n",
    "print(\"...Done.\")\n",
    "print(Y_test_pred)\n",
    "print()"
   ]
  },
  {
   "cell_type": "code",
   "execution_count": 54,
   "metadata": {},
   "outputs": [
    {
     "name": "stdout",
     "output_type": "stream",
     "text": [
      "R2 score on training set :  0.9833988407619012\n",
      "R2 score on test set :  0.9593306758258291\n"
     ]
    }
   ],
   "source": [
    "# Print R^2 scores\n",
    "print(\"R2 score on training set : \", r2_score(Y_train, Y_train_pred))\n",
    "print(\"R2 score on test set : \", r2_score(Y_test, Y_test_pred))"
   ]
  },
  {
   "cell_type": "markdown",
   "metadata": {},
   "source": [
    "En conclusion : On constate que le train et le test sont proches du 100% ! Et on constate également pas d'overfiting car les score du train et du test sont relativement proches. Dans notre cas, il n'est pas nécéssaire d'utiliser des hyperparamètres pour empêcher le modèle d'overfiter. "
   ]
  },
  {
   "cell_type": "code",
   "execution_count": null,
   "metadata": {},
   "outputs": [],
   "source": []
  }
 ],
 "metadata": {
  "kernelspec": {
   "display_name": "Python 3",
   "language": "python",
   "name": "python3"
  },
  "language_info": {
   "codemirror_mode": {
    "name": "ipython",
    "version": 3
   },
   "file_extension": ".py",
   "mimetype": "text/x-python",
   "name": "python",
   "nbconvert_exporter": "python",
   "pygments_lexer": "ipython3",
   "version": "3.8.6"
  }
 },
 "nbformat": 4,
 "nbformat_minor": 4
}
